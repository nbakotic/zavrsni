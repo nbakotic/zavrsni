{
 "cells": [
  {
   "attachments": {},
   "cell_type": "markdown",
   "id": "d34b67a0",
   "metadata": {},
   "source": [
    "# 0. Setup"
   ]
  },
  {
   "cell_type": "code",
   "execution_count": 12,
   "id": "326e56ba",
   "metadata": {},
   "outputs": [],
   "source": [
    "# libraries\n",
    "import matplotlib.pyplot as plt\n",
    "import pandas as pd\n",
    "import os\n",
    "import numpy as np\n",
    "from PIL import Image as PilImage\n",
    "from typing import Tuple\n",
    "import tensorflow as tf\n",
    "from tensorflow import keras\n",
    "from sklearn.model_selection import train_test_split\n",
    "from tensorflow.keras.models import Model\n",
    "from tensorflow.keras.layers import Input, Conv2D, BatchNormalization, MaxPooling2D, Dense, Flatten, Dropout\n",
    "from tensorflow.keras.regularizers import L2\n",
    "from sklearn.metrics import r2_score, mean_absolute_error, mean_squared_error\n",
    "\n",
    "# working directories\n",
    "WORKDIR = os.path.abspath('D:\\\\Users\\\\nbakotic\\\\iccecme-dataset') # get the path of this file - image metadata\n",
    "IMAGESDIR = os.path.join(WORKDIR, 'imagespng') # get the path of image folder\n",
    "\n",
    "# gpu setup\n",
    "gpus = tf.config.experimental.list_physical_devices('GPU')\n",
    "for gpu in gpus:\n",
    "    tf.config.experimental.set_memory_growth(gpu, True)"
   ]
  },
  {
   "attachments": {},
   "cell_type": "markdown",
   "id": "13acef4b",
   "metadata": {},
   "source": [
    "### Plotting Functions"
   ]
  },
  {
   "cell_type": "code",
   "execution_count": 13,
   "id": "a5b711b6",
   "metadata": {},
   "outputs": [],
   "source": [
    "# plot relationship between real and predicted values\n",
    "def plot_diff(y_true, y_pred, title=''):\n",
    "    plt.scatter(y_true, y_pred)\n",
    "    plt.title(title)\n",
    "    plt.xlabel('True Values')\n",
    "    plt.ylabel('Predictions')\n",
    "    plt.axis('equal')\n",
    "    plt.axis('square')\n",
    "    plt.xlim(plt.xlim())\n",
    "    plt.ylim(plt.ylim())\n",
    "    plt.show()\n",
    "\n",
    "\n",
    "# plot a metric from the given model training history\n",
    "def plot_metrics(history, metric_name, title):\n",
    "    plt.title(title)\n",
    "    plt.plot(history.history[metric_name], color='blue', label=metric_name)\n",
    "    plt.plot(history.history['val_' + metric_name], color='green', label='val_' + metric_name)\n",
    "    plt.show()"
   ]
  },
  {
   "attachments": {},
   "cell_type": "markdown",
   "id": "4e24367f",
   "metadata": {},
   "source": [
    "# 1.1 - Load and Process Metadata"
   ]
  },
  {
   "cell_type": "code",
   "execution_count": 14,
   "id": "757795ab",
   "metadata": {},
   "outputs": [],
   "source": [
    "# read metadata, drop target columns, original image size information and study description (natural language)\n",
    "# fill unknown values of body part examined with 'UNKNOWN'\n",
    "df = pd.read_csv(os.path.join(WORKDIR, 'metadata.csv'), index_col='id')\n",
    "df = df.drop(columns=['WindowCenter' ,'WindowWidth', 'Rows', 'Columns', 'StudyDescription'])\n",
    "df = df.fillna(value='UNKNOWN')\n",
    "\n",
    "# one hot encode the remaining columns, drop original columns and redundant columns\n",
    "mod_dummies = pd.get_dummies(df.Modality)\n",
    "bpe_dummies = pd.get_dummies(df.BodyPartExamined)\n",
    "hbit_dummies = pd.get_dummies(df.HighBit)\n",
    "df = pd.concat([df, hbit_dummies, mod_dummies, bpe_dummies], axis='columns')\n",
    "df = df.drop(columns=['Modality' ,'BodyPartExamined', 'HighBit', 7, 'XA','UNKNOWN'])\n",
    "\n",
    "# read metadata and drop all columns except target labels - WindowWidth and WindowCenter\n",
    "labels_df = pd.read_csv(os.path.join(WORKDIR, 'metadata.csv'), index_col='id')\n",
    "labels_df = labels_df.drop(columns=['Modality', 'Rows', 'Columns', 'BodyPartExamined', 'HighBit', 'StudyDescription'])\n",
    "\n",
    "# format numbers - find cells that contain two instead of one number and return only the first number\n",
    "def extract_number_from_list(val):\n",
    "    if ',' in val:\n",
    "        idx = val.find(',')\n",
    "        return val[1:idx]\n",
    "    else:\n",
    "        return val\n",
    "    \n",
    "labels_df = labels_df.applymap(extract_number_from_list)\n",
    "\n",
    "# convert string values to float32\n",
    "labels_df['WindowCenter'] = labels_df['WindowCenter'].astype('float32')\n",
    "labels_df['WindowWidth'] = labels_df['WindowWidth'].astype('float32')\n",
    "\n",
    "# scale numeric values to range from 0 to 255\n",
    "labels_df['WindowCenter'] = np.maximum(np.array(labels_df['WindowCenter']), 0) / np.array(labels_df['WindowCenter']).max() * 255.0\n",
    "labels_df['WindowWidth'] = np.maximum(np.array(labels_df['WindowWidth']), 0) / np.array(labels_df['WindowWidth']).max() * 255.0\n",
    "\n",
    "\n",
    "# some images are completely black and contain only zero values, they will be removed from dataframes\n",
    "# load image and drop row from dataframe if the image contains only zeroes (black)\n",
    "def remove_black_images(df):\n",
    "    for id in df.index:\n",
    "        img = np.array(PilImage.open(os.path.join(IMAGESDIR, str(id) + '.png')).convert('L'))\n",
    "        #some images only contain 0 values, even in original npy file and will be ignored in the dataset\n",
    "        if (not(np.min(img) == np.max(img) == 0)):\n",
    "            df.drop(id)\n",
    "\n",
    "    return df\n",
    "\n",
    "df = remove_black_images(df)\n",
    "labels_df = remove_black_images(labels_df)"
   ]
  },
  {
   "attachments": {},
   "cell_type": "markdown",
   "id": "847f58a6",
   "metadata": {},
   "source": [
    "# 2. Create and Format Datasets"
   ]
  },
  {
   "cell_type": "code",
   "execution_count": 15,
   "id": "a308d3d9",
   "metadata": {},
   "outputs": [],
   "source": [
    "# load png images using dataframe index as file names and return a numpy array of images\n",
    "def get_image(df):\n",
    "    x_img = []\n",
    "\n",
    "    for id in df.index:\n",
    "        \n",
    "        img = np.array(PilImage.open(os.path.join(IMAGESDIR, str(id) + '.png')).convert('L'))\n",
    "        # 1 grayscale dimension is dropped by default so it's added back manually\n",
    "        img = np.expand_dims(img, -1) \n",
    "\n",
    "        x_img.append(img)\n",
    "\n",
    "    x_img = np.array(x_img)\n",
    "\n",
    "    return x_img\n",
    "\n",
    "\n",
    "# format datasets - return tuple of labels as arrays\n",
    "def format_output(data):\n",
    "    window_center = data.pop('WindowCenter')\n",
    "    window_center = np.array(window_center)\n",
    "    window_width = data.pop('WindowWidth')\n",
    "    window_width = np.array(window_width)\n",
    "    return window_center, window_width\n",
    "\n",
    "\n",
    "# choose train, validation and test rations\n",
    "train_ratio = 0.72\n",
    "validation_ratio = 0.08\n",
    "test_ratio = 0.20\n",
    "\n",
    "# select a random state seed for more repeatable results\n",
    "split_seed = 9 # determined as best experimentally from 1 to 50, better split option might exist\n",
    "\n",
    "# train - test split\n",
    "x_train, x_test, y_train, y_test = train_test_split(df, labels_df, test_size=1-train_ratio, random_state=split_seed)\n",
    "\n",
    "# test - validation split,validation is treated as train data\n",
    "x_val, x_test, y_val, y_test = train_test_split(x_test, y_test, test_size=test_ratio/(test_ratio + validation_ratio), random_state=split_seed)\n",
    "\n",
    "# format outputs for each split\n",
    "y_train = format_output(y_train)\n",
    "y_val = format_output(y_val)\n",
    "y_test = format_output(y_test)\n",
    "\n",
    "# extract image from dataframe\n",
    "x_train_img = get_image(x_train)\n",
    "x_val_img = get_image(x_val)\n",
    "x_test_img = get_image(x_test)\n",
    "\n",
    "# metadata split into separate arrays for easier removal later\n",
    "def format_metadata(data):\n",
    "    highbit = data[[9, 11, 15]]\n",
    "    modalities = data[['CT', 'CR', 'MR', 'NM', 'RF']] \n",
    "    bpe = data.drop(columns=[9, 11, 15, 'CT', 'CR', 'MR', 'NM', 'RF'])\n",
    "\n",
    "    return np.array(highbit), np.array(modalities), np.array(bpe)\n",
    "\n",
    "x_train_hbit, x_train_mod, x_train_bpe = format_metadata(x_train)\n",
    "x_val_hbit, x_val_mod, x_val_bpe = format_metadata(x_val)\n",
    "x_test_hbit, x_test_mod, x_test_bpe = format_metadata(x_test)\n",
    "\n",
    "# x_train means\n",
    "train_means = np.mean(x_train_img)\n",
    "train_stddev = np.std(x_train_img)\n",
    "def image_scaler(images):\n",
    "    return (images - train_means) / train_stddev"
   ]
  },
  {
   "attachments": {},
   "cell_type": "markdown",
   "id": "a1846df7",
   "metadata": {},
   "source": [
    "# 3. ALL METADATA - BASELINE MODEL"
   ]
  },
  {
   "cell_type": "code",
   "execution_count": 16,
   "id": "beaa703c",
   "metadata": {},
   "outputs": [],
   "source": [
    "# build model\n",
    "\n",
    "# hyperparameters to adjust\n",
    "image_size = 128\n",
    "regularization_factor = 0.01\n",
    "learningrate = 0.0001\n",
    "\n",
    "layer_1 = 32\n",
    "layer_2 = 64\n",
    "layer_3 = 128\n",
    "layer_4 = 128\n",
    "layer_5 = 256\n",
    "\n",
    "metadata_1 = '32'\n",
    "metadata_2 = '64'\n",
    "metadata_3 = '128'\n",
    "metadata_4 = '256'\n",
    "\n",
    "dense_1 = '64'\n",
    "\n",
    "\n",
    "def build_mi_model():\n",
    "    # image and metadata inputs\n",
    "    input_img = Input(shape=(image_size, image_size, 1))\n",
    "\n",
    "    input_hbit = Input(shape=(3,))\n",
    "    input_mod = Input(shape=(5,))\n",
    "    input_bpe = Input(shape=(27,))\n",
    "    metadata = keras.layers.concatenate([input_hbit, input_mod, input_bpe])\n",
    "\n",
    "\n",
    "    # CNN\n",
    "    x = Conv2D(layer_1, 3, kernel_regularizer=L2(regularization_factor), activation='relu') (input_img)\n",
    "    x = MaxPooling2D() (x)  \n",
    "\n",
    "    x = Conv2D(layer_2, 3, kernel_regularizer=L2(regularization_factor), activation='relu') (x)\n",
    "    x = MaxPooling2D() (x)    \n",
    "    \n",
    "    x = Conv2D(layer_3, 3, kernel_regularizer=L2(regularization_factor), activation='relu') (x)\n",
    "    x = MaxPooling2D() (x)\n",
    "    \n",
    "    x = Conv2D(layer_4, 3, kernel_regularizer=L2(regularization_factor), activation='relu') (x)\n",
    "    x = MaxPooling2D() (x)\n",
    "    \n",
    "    x = Conv2D(layer_5, 3, kernel_regularizer=L2(regularization_factor), activation='relu') (x)\n",
    "    x = MaxPooling2D() (x)\n",
    "    \n",
    "    x = Flatten() (x)\n",
    "\n",
    "     # metadata dense layers\n",
    "    metadata = Dense(units=metadata_1, activation='relu', kernel_regularizer=L2(regularization_factor)) (metadata)  \n",
    "    metadata = Dense(units=metadata_2, activation='relu', kernel_regularizer=L2(regularization_factor)) (metadata)  \n",
    "    metadata = Dense(units=metadata_3, activation='relu', kernel_regularizer=L2(regularization_factor)) (metadata) \n",
    "    metadata = Dense(units=metadata_4, activation='relu', kernel_regularizer=L2(regularization_factor)) (metadata) \n",
    " \n",
    "    \n",
    "    # combined layers\n",
    "    combined = keras.layers.concatenate([x, metadata])\n",
    "               \n",
    "    x = Dense(units=dense_1, activation='relu', kernel_regularizer=L2(regularization_factor)) (combined)  \n",
    "               \n",
    "    output1 = Dense(units='1', activation='linear', name=\"window_center\")(x)\n",
    "    output2 = Dense(units='1', activation='linear', name=\"window_width\")(x)\n",
    "    \n",
    "    model = Model(inputs=[input_img, input_hbit, input_mod, input_bpe], outputs=[output1, output2])\n",
    "    \n",
    "    return model\n",
    "\n",
    "mi_model = build_mi_model()\n",
    "\n",
    "# optimizer, losses and metrics and compile model\n",
    "optim = keras.optimizers.Adam(learning_rate=0.0001)\n",
    "\n",
    "loss1 = keras.losses.MeanSquaredError()\n",
    "loss2 = keras.losses.MeanSquaredError()\n",
    "losses = {\n",
    "    \"window_center\": loss1,\n",
    "    \"window_width\": loss2,\n",
    "}\n",
    "\n",
    "metric1 = tf.keras.metrics.MeanSquaredError()\n",
    "metric2 = tf.keras.metrics.MeanSquaredError()\n",
    "metrics = {\n",
    "    \"window_center\": metric1,\n",
    "    \"window_width\": metric2,\n",
    "}\n",
    "\n",
    "\n",
    "mi_model.compile(optimizer=optim, loss=losses, metrics=metrics)"
   ]
  },
  {
   "cell_type": "code",
   "execution_count": 17,
   "id": "f174107e",
   "metadata": {},
   "outputs": [
    {
     "data": {
      "image/png": "[encoded data removed]",
      "text/plain": [
       "<Figure size 432x288 with 1 Axes>"
      ]
     },
     "metadata": {
      "needs_background": "light"
     },
     "output_type": "display_data"
    },
    {
     "data": {
      "image/png": "[encoded data removed]",
      "text/plain": [
       "<Figure size 432x288 with 1 Axes>"
      ]
     },
     "metadata": {
      "needs_background": "light"
     },
     "output_type": "display_data"
    },
    {
     "data": {
      "image/png": "[encoded data removed]",
      "text/plain": [
       "<Figure size 432x288 with 1 Axes>"
      ]
     },
     "metadata": {
      "needs_background": "light"
     },
     "output_type": "display_data"
    },
    {
     "name": "stdout",
     "output_type": "stream",
     "text": [
      "The accuracy of WindowCenter is 85.0%\n",
      "The accuracy of WindowWidth is 81.0%\n",
      "Mean absolute error of WindowCenter is 1.6299999952316284\n",
      "Mean absolute error of WindowWidth is 1.9700000286102295\n",
      "Mean squared error of WindowCenter is 16.329999923706055, RMSE: 4.039999961853027\n",
      "Mean squared errory of WindowWidth is 19.06999969482422, RMSE: 4.369999885559082\n"
     ]
    }
   ],
   "source": [
    "stop_early_mi = tf.keras.callbacks.EarlyStopping(monitor='val_loss', mode='min', patience=10)\n",
    "mi_history = mi_model.fit(x=[image_scaler(x_train_img), x_train_hbit, x_train_mod, x_train_bpe], \n",
    "                          y = y_train, batch_size=256, epochs=100, \n",
    "                          validation_data=([image_scaler(x_val_img), x_val_hbit, x_val_mod, x_val_bpe], y_val), verbose=0, callbacks=[stop_early_mi])\n",
    "\n",
    "# make a prediction with the model\n",
    "Y_pred = mi_model.predict([image_scaler(x_test_img), x_test_hbit, x_test_mod, x_test_bpe])\n",
    "center_pred = Y_pred[0]\n",
    "width_pred = Y_pred[1]\n",
    "\n",
    "test_center = y_test[0]\n",
    "test_width = y_test[1]\n",
    "\n",
    "# difference between true and predicted values\n",
    "plot_diff(test_center, center_pred, title='CENTER')\n",
    "plot_diff(test_width, width_pred, title='WIDTH')\n",
    "\n",
    "# plot Loss\n",
    "plot_metrics(mi_history, metric_name='loss', title='LOSS')\n",
    "\n",
    "# calculate and print metrics\n",
    "mi_score_center = r2_score(test_center, center_pred.reshape(-1))\n",
    "print(\"The accuracy of WindowCenter is {}%\".format(round(mi_score_center, 2) *100))\n",
    "mi_score_width = r2_score(test_width, width_pred.reshape(-1))\n",
    "print(\"The accuracy of WindowWidth is {}%\".format(round(mi_score_width, 2) *100))\n",
    "\n",
    "mi_mae_center =  mean_absolute_error(test_center, center_pred.reshape(-1))\n",
    "print(\"Mean absolute error of WindowCenter is {}\".format(round(mi_mae_center, 2)))\n",
    "mi_mae_width =  mean_absolute_error(test_width, width_pred.reshape(-1))\n",
    "print(\"Mean absolute error of WindowWidth is {}\".format(round(mi_mae_width, 2)))\n",
    "\n",
    "mi_mse_center = mean_squared_error(test_center, center_pred.reshape(-1))\n",
    "print(\"Mean squared error of WindowCenter is {}, RMSE: {}\".format(round(mi_mse_center, 2), round(np.sqrt(mi_mse_center), 2)))\n",
    "mi_mse_width = mean_squared_error(test_width, width_pred.reshape(-1))\n",
    "print(\"Mean squared errory of WindowWidth is {}, RMSE: {}\".format(round(mi_mse_width, 2), round(np.sqrt(mi_mse_width), 2)))"
   ]
  },
  {
   "attachments": {},
   "cell_type": "markdown",
   "id": "48ddfe87",
   "metadata": {},
   "source": [
    "# 4. ABLATION STUDY - Effect of Metadata"
   ]
  },
  {
   "attachments": {},
   "cell_type": "markdown",
   "id": "489c6220",
   "metadata": {},
   "source": [
    "## HighBit + Modality"
   ]
  },
  {
   "cell_type": "code",
   "execution_count": 18,
   "id": "ebc1f3c2",
   "metadata": {},
   "outputs": [],
   "source": [
    "# build model\n",
    "\n",
    "# hyperparameters to adjust\n",
    "image_size = 128\n",
    "regularization_factor = 0.01\n",
    "learningrate = 0.0001\n",
    "\n",
    "layer_1 = 32\n",
    "layer_2 = 64\n",
    "layer_3 = 128\n",
    "layer_4 = 128\n",
    "layer_5 = 256\n",
    "\n",
    "metadata_1 = '32'\n",
    "metadata_2 = '64'\n",
    "metadata_3 = '128'\n",
    "metadata_4 = '256'\n",
    "\n",
    "dense_1 = '64'\n",
    "\n",
    "def build_mi_model():\n",
    "\n",
    "    # image and metadata inputs\n",
    "    input_img = Input(shape=(image_size, image_size, 1))\n",
    "\n",
    "    input_hbit = Input(shape=(3,))\n",
    "    input_mod = Input(shape=(5,))\n",
    "    metadata = keras.layers.concatenate([input_hbit, input_mod])\n",
    "    \n",
    "\n",
    "    # CNN\n",
    "    x = Conv2D(layer_1, 3, kernel_regularizer=L2(regularization_factor), activation='relu') (input_img)\n",
    "    x = MaxPooling2D() (x)  \n",
    "\n",
    "    x = Conv2D(layer_2, 3, kernel_regularizer=L2(regularization_factor), activation='relu') (x)\n",
    "    x = MaxPooling2D() (x)    \n",
    "    \n",
    "    x = Conv2D(layer_3, 3, kernel_regularizer=L2(regularization_factor), activation='relu') (x)\n",
    "    x = MaxPooling2D() (x)\n",
    "    \n",
    "    x = Conv2D(layer_4, 3, kernel_regularizer=L2(regularization_factor), activation='relu') (x)\n",
    "    x = MaxPooling2D() (x)\n",
    "    \n",
    "    x = Conv2D(layer_5, 3, kernel_regularizer=L2(regularization_factor), activation='relu') (x)\n",
    "    x = MaxPooling2D() (x)\n",
    "\n",
    "    x = Flatten() (x)\n",
    "    \n",
    "\n",
    "    # metadata dense layers\n",
    "    metadata = Dense(units=metadata_1, activation='relu', kernel_regularizer=L2(regularization_factor)) (metadata) \n",
    "    metadata = Dense(units=metadata_2, activation='relu', kernel_regularizer=L2(regularization_factor)) (metadata)  \n",
    "    metadata = Dense(units=metadata_3, activation='relu', kernel_regularizer=L2(regularization_factor)) (metadata) \n",
    "    metadata = Dense(units=metadata_4, activation='relu', kernel_regularizer=L2(regularization_factor)) (metadata) \n",
    "\n",
    "    # combined layers\n",
    "    combined = keras.layers.concatenate([x, metadata])\n",
    "               \n",
    "    x = Dense(units=dense_1, activation='relu', kernel_regularizer=L2(regularization_factor)) (combined)  \n",
    "               \n",
    "    output1 = Dense(units='1', activation='linear', name=\"window_center\")(x)\n",
    "    output2 = Dense(units='1', activation='linear', name=\"window_width\")(x)\n",
    "    \n",
    "    model = Model(inputs=[input_img, input_hbit, input_mod], outputs=[output1, output2])\n",
    "    \n",
    "    return model\n",
    "\n",
    "mi_model = build_mi_model()\n",
    "\n",
    "\n",
    "# optimizer, losses and metrics and compile model\n",
    "optim = keras.optimizers.Adam(learning_rate=learningrate)\n",
    "\n",
    "loss1 = keras.losses.MeanSquaredError()\n",
    "loss2 = keras.losses.MeanSquaredError()\n",
    "losses = {\n",
    "    \"window_center\": loss1,\n",
    "    \"window_width\": loss2,\n",
    "}\n",
    "\n",
    "metric1 = tf.keras.metrics.MeanSquaredError()\n",
    "metric2 = tf.keras.metrics.MeanSquaredError()\n",
    "metrics = {\n",
    "    \"window_center\": metric1,\n",
    "    \"window_width\": metric2,\n",
    "}\n",
    "\n",
    "mi_model.compile(optimizer=optim, loss=losses, metrics=metrics)"
   ]
  },
  {
   "cell_type": "code",
   "execution_count": 19,
   "id": "986549a2",
   "metadata": {},
   "outputs": [
    {
     "data": {
      "image/png": "[encoded data removed]",
      "text/plain": [
       "<Figure size 432x288 with 1 Axes>"
      ]
     },
     "metadata": {
      "needs_background": "light"
     },
     "output_type": "display_data"
    },
    {
     "data": {
      "image/png": "[encoded data removed]",
      "text/plain": [
       "<Figure size 432x288 with 1 Axes>"
      ]
     },
     "metadata": {
      "needs_background": "light"
     },
     "output_type": "display_data"
    },
    {
     "data": {
      "image/png": "[encoded data removed]",
      "text/plain": [
       "<Figure size 432x288 with 1 Axes>"
      ]
     },
     "metadata": {
      "needs_background": "light"
     },
     "output_type": "display_data"
    },
    {
     "name": "stdout",
     "output_type": "stream",
     "text": [
      "The accuracy of WindowCenter is 84.0%\n",
      "The accuracy of WindowWidth is 79.0%\n",
      "Mean absolute error of WindowCenter is 1.559999942779541\n",
      "Mean absolute error of WindowWidth is 1.9600000381469727\n",
      "Mean squared error of WindowCenter is 18.200000762939453, RMSE: 4.269999980926514\n",
      "Mean squared errory of WindowWidth is 21.1200008392334, RMSE: 4.599999904632568\n"
     ]
    }
   ],
   "source": [
    "stop_early_mi = tf.keras.callbacks.EarlyStopping(monitor='val_loss', mode='min', patience=10)\n",
    "mi_history = mi_model.fit(x=[image_scaler(x_train_img), x_train_hbit, x_train_mod], \n",
    "                          y = y_train, batch_size=256, epochs=100, \n",
    "                          validation_data=([image_scaler(x_val_img), x_val_hbit, x_val_mod], y_val), verbose=0, callbacks=[stop_early_mi])\n",
    "\n",
    "\n",
    "# make a prediction with the model\n",
    "Y_pred = mi_model.predict([image_scaler(x_test_img), x_test_hbit, x_test_mod])\n",
    "center_pred = Y_pred[0]\n",
    "width_pred = Y_pred[1]\n",
    "\n",
    "test_center = y_test[0]\n",
    "test_width = y_test[1]\n",
    "\n",
    "# difference between true and predicted values\n",
    "plot_diff(test_center, center_pred, title='CENTER')\n",
    "plot_diff(test_width, width_pred, title='WIDTH')\n",
    "\n",
    "# plot Loss\n",
    "plot_metrics(mi_history, metric_name='loss', title='LOSS')\n",
    "\n",
    "# calculate and print metrics\n",
    "mi_score_center = r2_score(test_center, center_pred.reshape(-1))\n",
    "print(\"The accuracy of WindowCenter is {}%\".format(round(mi_score_center, 2) *100))\n",
    "mi_score_width = r2_score(test_width, width_pred.reshape(-1))\n",
    "print(\"The accuracy of WindowWidth is {}%\".format(round(mi_score_width, 2) *100))\n",
    "\n",
    "mi_mae_center =  mean_absolute_error(test_center, center_pred.reshape(-1))\n",
    "print(\"Mean absolute error of WindowCenter is {}\".format(round(mi_mae_center, 2)))\n",
    "mi_mae_width =  mean_absolute_error(test_width, width_pred.reshape(-1))\n",
    "print(\"Mean absolute error of WindowWidth is {}\".format(round(mi_mae_width, 2)))\n",
    "\n",
    "mi_mse_center = mean_squared_error(test_center, center_pred.reshape(-1))\n",
    "print(\"Mean squared error of WindowCenter is {}, RMSE: {}\".format(round(mi_mse_center, 2), round(np.sqrt(mi_mse_center), 2)))\n",
    "mi_mse_width = mean_squared_error(test_width, width_pred.reshape(-1))\n",
    "print(\"Mean squared errory of WindowWidth is {}, RMSE: {}\".format(round(mi_mse_width, 2), round(np.sqrt(mi_mse_width), 2)))"
   ]
  },
  {
   "attachments": {},
   "cell_type": "markdown",
   "id": "f74c9b70",
   "metadata": {},
   "source": [
    "## HighBit + BodyPartExamined"
   ]
  },
  {
   "cell_type": "code",
   "execution_count": 20,
   "id": "da3673cd",
   "metadata": {},
   "outputs": [],
   "source": [
    "# build model\n",
    "\n",
    "# hyperparameters to adjust\n",
    "image_size = 128\n",
    "regularization_factor = 0.01\n",
    "learningrate = 0.0001\n",
    "\n",
    "layer_1 = 32\n",
    "layer_2 = 64\n",
    "layer_3 = 128\n",
    "layer_4 = 128\n",
    "layer_5 = 256\n",
    "\n",
    "metadata_1 = '32'\n",
    "metadata_2 = '64'\n",
    "metadata_3 = '128'\n",
    "metadata_4 = '256'\n",
    "\n",
    "dense_1 = '64'\n",
    "\n",
    "def build_mi_model():\n",
    "     # image and metadata inputs\n",
    "    input_img = Input(shape=(image_size, image_size, 1))\n",
    "\n",
    "    input_hbit = Input(shape=(3,))\n",
    "    input_bpe = Input(shape=(27,))\n",
    "    metadata = keras.layers.concatenate([input_hbit, input_bpe])\n",
    "\n",
    "\n",
    "    # CNN\n",
    "    x = Conv2D(layer_1, 3, kernel_regularizer=L2(regularization_factor), activation='relu') (input_img)\n",
    "    x = MaxPooling2D() (x)  \n",
    "\n",
    "    x = Conv2D(layer_2, 3, kernel_regularizer=L2(regularization_factor), activation='relu') (x)\n",
    "    x = MaxPooling2D() (x)    \n",
    "    \n",
    "    x = Conv2D(layer_3, 3, kernel_regularizer=L2(regularization_factor), activation='relu') (x)\n",
    "    x = MaxPooling2D() (x)\n",
    "    \n",
    "    x = Conv2D(layer_4, 3, kernel_regularizer=L2(regularization_factor), activation='relu') (x)\n",
    "    x = MaxPooling2D() (x)\n",
    "    \n",
    "    x = Conv2D(layer_5, 3, kernel_regularizer=L2(regularization_factor), activation='relu') (x)\n",
    "    x = MaxPooling2D() (x)\n",
    "\n",
    "    x = Flatten() (x)\n",
    "    \n",
    "\n",
    "    # metadata dense layers\n",
    "    metadata = Dense(units=metadata_1, activation='relu', kernel_regularizer=L2(regularization_factor)) (metadata) \n",
    "    metadata = Dense(units=metadata_2, activation='relu', kernel_regularizer=L2(regularization_factor)) (metadata)  \n",
    "    metadata = Dense(units=metadata_3, activation='relu', kernel_regularizer=L2(regularization_factor)) (metadata) \n",
    "    metadata = Dense(units=metadata_4, activation='relu', kernel_regularizer=L2(regularization_factor)) (metadata) \n",
    "\n",
    "\n",
    "    # combined layers\n",
    "    combined = keras.layers.concatenate([x, metadata])\n",
    "               \n",
    "    x = Dense(units=dense_1, activation='relu', kernel_regularizer=L2(regularization_factor)) (combined)  \n",
    "               \n",
    "    output1 = Dense(units='1', activation='linear', name=\"window_center\")(x)\n",
    "    output2 = Dense(units='1', activation='linear', name=\"window_width\")(x)\n",
    "    \n",
    "    model = Model(inputs=[input_img, input_hbit, input_bpe], outputs=[output1, output2])\n",
    "    \n",
    "    return model\n",
    "\n",
    "mi_model = build_mi_model()\n",
    "\n",
    "# optimizer, losses and metrics and compile model\n",
    "optim = keras.optimizers.Adam(learning_rate=learningrate)\n",
    "\n",
    "loss1 = keras.losses.MeanSquaredError()\n",
    "loss2 = keras.losses.MeanSquaredError()\n",
    "losses = {\n",
    "    \"window_center\": loss1,\n",
    "    \"window_width\": loss2,\n",
    "}\n",
    "\n",
    "metric1 = tf.keras.metrics.MeanSquaredError()\n",
    "metric2 = tf.keras.metrics.MeanSquaredError()\n",
    "metrics = {\n",
    "    \"window_center\": metric1,\n",
    "    \"window_width\": metric2,\n",
    "}\n",
    "\n",
    "mi_model.compile(optimizer=optim, loss=losses, metrics=metrics)"
   ]
  },
  {
   "cell_type": "code",
   "execution_count": 21,
   "id": "c5b47092",
   "metadata": {},
   "outputs": [
    {
     "data": {
      "image/png": "[encoded data removed]",
      "text/plain": [
       "<Figure size 432x288 with 1 Axes>"
      ]
     },
     "metadata": {
      "needs_background": "light"
     },
     "output_type": "display_data"
    },
    {
     "data": {
      "image/png": "[encoded data removed]",
      "text/plain": [
       "<Figure size 432x288 with 1 Axes>"
      ]
     },
     "metadata": {
      "needs_background": "light"
     },
     "output_type": "display_data"
    },
    {
     "data": {
      "image/png": "[encoded data removed]",
      "text/plain": [
       "<Figure size 432x288 with 1 Axes>"
      ]
     },
     "metadata": {
      "needs_background": "light"
     },
     "output_type": "display_data"
    },
    {
     "name": "stdout",
     "output_type": "stream",
     "text": [
      "The accuracy of WindowCenter is 82.0%\n",
      "The accuracy of WindowWidth is 78.0%\n",
      "Mean absolute error of WindowCenter is 1.8200000524520874\n",
      "Mean absolute error of WindowWidth is 2.0299999713897705\n",
      "Mean squared error of WindowCenter is 19.579999923706055, RMSE: 4.420000076293945\n",
      "Mean squared errory of WindowWidth is 21.8799991607666, RMSE: 4.679999828338623\n"
     ]
    }
   ],
   "source": [
    "stop_early_mi = tf.keras.callbacks.EarlyStopping(monitor='val_loss', mode='min', patience=10)\n",
    "mi_history = mi_model.fit(x=[image_scaler(x_train_img), x_train_hbit, x_train_bpe], \n",
    "                          y = y_train, batch_size=256, epochs=100, \n",
    "                          validation_data=([image_scaler(x_val_img), x_val_hbit, x_val_bpe], y_val), verbose=0, callbacks=[stop_early_mi])\n",
    "\n",
    "\n",
    "# make a prediction with the model\n",
    "Y_pred = mi_model.predict([image_scaler(x_test_img), x_test_hbit, x_test_bpe])\n",
    "center_pred = Y_pred[0]\n",
    "width_pred = Y_pred[1]\n",
    "\n",
    "test_center = y_test[0]\n",
    "test_width = y_test[1]\n",
    "\n",
    "# difference between true and predicted values\n",
    "plot_diff(test_center, center_pred, title='CENTER')\n",
    "plot_diff(test_width, width_pred, title='WIDTH')\n",
    "\n",
    "# plot Loss\n",
    "plot_metrics(mi_history, metric_name='loss', title='LOSS')\n",
    "\n",
    "# calculate and print metrics\n",
    "mi_score_center = r2_score(test_center, center_pred.reshape(-1))\n",
    "print(\"The accuracy of WindowCenter is {}%\".format(round(mi_score_center, 2) *100))\n",
    "mi_score_width = r2_score(test_width, width_pred.reshape(-1))\n",
    "print(\"The accuracy of WindowWidth is {}%\".format(round(mi_score_width, 2) *100))\n",
    "\n",
    "mi_mae_center =  mean_absolute_error(test_center, center_pred.reshape(-1))\n",
    "print(\"Mean absolute error of WindowCenter is {}\".format(round(mi_mae_center, 2)))\n",
    "mi_mae_width =  mean_absolute_error(test_width, width_pred.reshape(-1))\n",
    "print(\"Mean absolute error of WindowWidth is {}\".format(round(mi_mae_width, 2)))\n",
    "\n",
    "mi_mse_center = mean_squared_error(test_center, center_pred.reshape(-1))\n",
    "print(\"Mean squared error of WindowCenter is {}, RMSE: {}\".format(round(mi_mse_center, 2), round(np.sqrt(mi_mse_center), 2)))\n",
    "mi_mse_width = mean_squared_error(test_width, width_pred.reshape(-1))\n",
    "print(\"Mean squared errory of WindowWidth is {}, RMSE: {}\".format(round(mi_mse_width, 2), round(np.sqrt(mi_mse_width), 2)))"
   ]
  },
  {
   "attachments": {},
   "cell_type": "markdown",
   "id": "ec4ef645",
   "metadata": {},
   "source": [
    "## Modality + BodyPartExamined"
   ]
  },
  {
   "cell_type": "code",
   "execution_count": 22,
   "id": "975de265",
   "metadata": {},
   "outputs": [],
   "source": [
    "# build model\n",
    "\n",
    "# hyperparameters to adjust\n",
    "image_size = 128\n",
    "regularization_factor = 0.01\n",
    "learningrate = 0.0001\n",
    "\n",
    "layer_1 = 32\n",
    "layer_2 = 64\n",
    "layer_3 = 128\n",
    "layer_4 = 128\n",
    "layer_5 = 256\n",
    "\n",
    "metadata_1 = '32'\n",
    "metadata_2 = '64'\n",
    "metadata_3 = '128'\n",
    "metadata_4 = '256'\n",
    "\n",
    "dense_1 = '64'\n",
    "\n",
    "def build_mi_model():\n",
    "    # image and metadata inputs\n",
    "    input_img = Input(shape=(image_size, image_size, 1))\n",
    "\n",
    "    input_mod = Input(shape=(5,))\n",
    "    input_bpe = Input(shape=(27,))\n",
    "    metadata = keras.layers.concatenate([input_mod, input_bpe])\n",
    "\n",
    "\n",
    "    # CNN\n",
    "    x = Conv2D(layer_1, 3, kernel_regularizer=L2(regularization_factor), activation='relu') (input_img)\n",
    "    x = MaxPooling2D() (x)  \n",
    "\n",
    "    x = Conv2D(layer_2, 3, kernel_regularizer=L2(regularization_factor), activation='relu') (x)\n",
    "    x = MaxPooling2D() (x)    \n",
    "    \n",
    "    x = Conv2D(layer_3, 3, kernel_regularizer=L2(regularization_factor), activation='relu') (x)\n",
    "    x = MaxPooling2D() (x)\n",
    "    \n",
    "    x = Conv2D(layer_4, 3, kernel_regularizer=L2(regularization_factor), activation='relu') (x)\n",
    "    x = MaxPooling2D() (x)\n",
    "    \n",
    "    x = Conv2D(layer_5, 3, kernel_regularizer=L2(regularization_factor), activation='relu') (x)\n",
    "    x = MaxPooling2D() (x)\n",
    "\n",
    "    x = Flatten() (x)\n",
    "    \n",
    "    # metadata dense layers\n",
    "    metadata = Dense(units=metadata_1, activation='relu', kernel_regularizer=L2(regularization_factor)) (metadata) \n",
    "    metadata = Dense(units=metadata_2, activation='relu', kernel_regularizer=L2(regularization_factor)) (metadata)  \n",
    "    metadata = Dense(units=metadata_3, activation='relu', kernel_regularizer=L2(regularization_factor)) (metadata) \n",
    "    metadata = Dense(units=metadata_4, activation='relu', kernel_regularizer=L2(regularization_factor)) (metadata) \n",
    "      \n",
    "    \n",
    "    # combined layers\n",
    "    combined = keras.layers.concatenate([x, metadata])\n",
    "               \n",
    "    x = Dense(units=dense_1, activation='relu', kernel_regularizer=L2(regularization_factor)) (combined)  \n",
    "              \n",
    "    output1 = Dense(units='1', activation='linear', name=\"window_center\")(x)\n",
    "    output2 = Dense(units='1', activation='linear', name=\"window_width\")(x)\n",
    "    \n",
    "    model = Model(inputs=[input_img, input_mod, input_bpe], outputs=[output1, output2])\n",
    "    \n",
    "    return model\n",
    "\n",
    "mi_model = build_mi_model()\n",
    "\n",
    "\n",
    "# optimizer, losses and metrics and compile model\n",
    "optim = keras.optimizers.Adam(learning_rate=learningrate)\n",
    "\n",
    "loss1 = keras.losses.MeanSquaredError()\n",
    "loss2 = keras.losses.MeanSquaredError()\n",
    "losses = {\n",
    "    \"window_center\": loss1,\n",
    "    \"window_width\": loss2,\n",
    "}\n",
    "\n",
    "metric1 = tf.keras.metrics.MeanSquaredError()\n",
    "metric2 = tf.keras.metrics.MeanSquaredError()\n",
    "metrics = {\n",
    "    \"window_center\": metric1,\n",
    "    \"window_width\": metric2,\n",
    "}\n",
    "\n",
    "mi_model.compile(optimizer=optim, loss=losses, metrics=metrics)"
   ]
  },
  {
   "cell_type": "code",
   "execution_count": 23,
   "id": "21f17137",
   "metadata": {},
   "outputs": [
    {
     "data": {
      "image/png": "[encoded data removed]",
      "text/plain": [
       "<Figure size 432x288 with 1 Axes>"
      ]
     },
     "metadata": {
      "needs_background": "light"
     },
     "output_type": "display_data"
    },
    {
     "data": {
      "image/png": "[encoded data removed]",
      "text/plain": [
       "<Figure size 432x288 with 1 Axes>"
      ]
     },
     "metadata": {
      "needs_background": "light"
     },
     "output_type": "display_data"
    },
    {
     "data": {
      "image/png": "[encoded data removed]",
      "text/plain": [
       "<Figure size 432x288 with 1 Axes>"
      ]
     },
     "metadata": {
      "needs_background": "light"
     },
     "output_type": "display_data"
    },
    {
     "name": "stdout",
     "output_type": "stream",
     "text": [
      "The accuracy of WindowCenter is 82.0%\n",
      "The accuracy of WindowWidth is 78.0%\n",
      "Mean absolute error of WindowCenter is 1.75\n",
      "Mean absolute error of WindowWidth is 2.0199999809265137\n",
      "Mean squared error of WindowCenter is 20.170000076293945, RMSE: 4.489999771118164\n",
      "Mean squared errory of WindowWidth is 21.989999771118164, RMSE: 4.690000057220459\n"
     ]
    }
   ],
   "source": [
    "stop_early_mi = tf.keras.callbacks.EarlyStopping(monitor='val_loss', mode='min', patience=10)\n",
    "mi_history = mi_model.fit(x=[image_scaler(x_train_img), x_train_mod, x_train_bpe], \n",
    "                          y = y_train, batch_size=256, epochs=100, \n",
    "                          validation_data=([image_scaler(x_val_img), x_val_mod, x_val_bpe], y_val), verbose=0, callbacks=[stop_early_mi])\n",
    "\n",
    "\n",
    "# make a prediction with the model\n",
    "Y_pred = mi_model.predict([image_scaler(x_test_img), x_test_mod, x_test_bpe])\n",
    "center_pred = Y_pred[0]\n",
    "width_pred = Y_pred[1]\n",
    "\n",
    "test_center = y_test[0]\n",
    "test_width = y_test[1]\n",
    "\n",
    "# difference between true and predicted values\n",
    "plot_diff(test_center, center_pred, title='CENTER')\n",
    "plot_diff(test_width, width_pred, title='WIDTH')\n",
    "\n",
    "# Plot Loss\n",
    "plot_metrics(mi_history, metric_name='loss', title='LOSS')\n",
    "\n",
    "# calculate and print metrics\n",
    "mi_score_center = r2_score(test_center, center_pred.reshape(-1))\n",
    "print(\"The accuracy of WindowCenter is {}%\".format(round(mi_score_center, 2) *100))\n",
    "mi_score_width = r2_score(test_width, width_pred.reshape(-1))\n",
    "print(\"The accuracy of WindowWidth is {}%\".format(round(mi_score_width, 2) *100))\n",
    "\n",
    "mi_mae_center =  mean_absolute_error(test_center, center_pred.reshape(-1))\n",
    "print(\"Mean absolute error of WindowCenter is {}\".format(round(mi_mae_center, 2)))\n",
    "mi_mae_width =  mean_absolute_error(test_width, width_pred.reshape(-1))\n",
    "print(\"Mean absolute error of WindowWidth is {}\".format(round(mi_mae_width, 2)))\n",
    "\n",
    "mi_mse_center = mean_squared_error(test_center, center_pred.reshape(-1))\n",
    "print(\"Mean squared error of WindowCenter is {}, RMSE: {}\".format(round(mi_mse_center, 2), round(np.sqrt(mi_mse_center), 2)))\n",
    "mi_mse_width = mean_squared_error(test_width, width_pred.reshape(-1))\n",
    "print(\"Mean squared errory of WindowWidth is {}, RMSE: {}\".format(round(mi_mse_width, 2), round(np.sqrt(mi_mse_width), 2)))"
   ]
  },
  {
   "attachments": {},
   "cell_type": "markdown",
   "id": "717769ce",
   "metadata": {},
   "source": [
    "## Only HighBit"
   ]
  },
  {
   "cell_type": "code",
   "execution_count": 25,
   "id": "e9b9d6e6",
   "metadata": {},
   "outputs": [],
   "source": [
    "# build model\n",
    "\n",
    "# hyperparameters to adjust\n",
    "image_size = 128\n",
    "regularization_factor = 0.01\n",
    "learningrate = 0.0001\n",
    "\n",
    "layer_1 = 32\n",
    "layer_2 = 64\n",
    "layer_3 = 128\n",
    "layer_4 = 128\n",
    "layer_5 = 256\n",
    "\n",
    "metadata_1 = '32'\n",
    "metadata_2 = '64'\n",
    "metadata_3 = '128'\n",
    "metadata_4 = '256'\n",
    "\n",
    "dense_1 = '64'\n",
    "\n",
    "def build_mi_model():\n",
    "     # image and metadata inputs\n",
    "    input_img = Input(shape=(image_size, image_size, 1))\n",
    "    input_hbit = Input(shape=(3,))\n",
    "\n",
    "\n",
    "    # CNN\n",
    "    x = Conv2D(layer_1, 3, kernel_regularizer=L2(regularization_factor), activation='relu') (input_img)\n",
    "    x = MaxPooling2D() (x)  \n",
    "\n",
    "    x = Conv2D(layer_2, 3, kernel_regularizer=L2(regularization_factor), activation='relu') (x)\n",
    "    x = MaxPooling2D() (x)    \n",
    "    \n",
    "    x = Conv2D(layer_3, 3, kernel_regularizer=L2(regularization_factor), activation='relu') (x)\n",
    "    x = MaxPooling2D() (x)\n",
    "    \n",
    "    x = Conv2D(layer_4, 3, kernel_regularizer=L2(regularization_factor), activation='relu') (x)\n",
    "    x = MaxPooling2D() (x)\n",
    "    \n",
    "    x = Conv2D(layer_5, 3, kernel_regularizer=L2(regularization_factor), activation='relu') (x)\n",
    "    x = MaxPooling2D() (x)\n",
    "\n",
    "    x = Flatten() (x)\n",
    "\n",
    "    # metadata dense layers\n",
    "    metadata = Dense(units=metadata_1, activation='relu', kernel_regularizer=L2(regularization_factor)) (input_hbit) \n",
    "    metadata = Dense(units=metadata_2, activation='relu', kernel_regularizer=L2(regularization_factor)) (metadata)  \n",
    "    metadata = Dense(units=metadata_3, activation='relu', kernel_regularizer=L2(regularization_factor)) (metadata) \n",
    "    metadata = Dense(units=metadata_4, activation='relu', kernel_regularizer=L2(regularization_factor)) (metadata) \n",
    "      \n",
    "    \n",
    "    # combined layers\n",
    "    combined = keras.layers.concatenate([x, metadata])\n",
    "               \n",
    "    x = Dense(units=dense_1, activation='relu', kernel_regularizer=L2(regularization_factor)) (combined)  \n",
    "              \n",
    "    output1 = Dense(units='1', activation='linear', name=\"window_center\")(x)\n",
    "    output2 = Dense(units='1', activation='linear', name=\"window_width\")(x)\n",
    "    \n",
    "    model = Model(inputs=[input_img, input_hbit], outputs=[output1, output2])\n",
    "    \n",
    "    return model\n",
    "\n",
    "mi_model = build_mi_model()\n",
    "\n",
    "\n",
    "# optimizer, losses and metrics and compile model\n",
    "optim = keras.optimizers.Adam(learning_rate=learningrate)\n",
    "\n",
    "loss1 = keras.losses.MeanSquaredError()\n",
    "loss2 = keras.losses.MeanSquaredError()\n",
    "losses = {\n",
    "    \"window_center\": loss1,\n",
    "    \"window_width\": loss2,\n",
    "}\n",
    "\n",
    "metric1 = tf.keras.metrics.MeanSquaredError()\n",
    "metric2 = tf.keras.metrics.MeanSquaredError()\n",
    "metrics = {\n",
    "    \"window_center\": metric1,\n",
    "    \"window_width\": metric2,\n",
    "}\n",
    "\n",
    "mi_model.compile(optimizer=optim, loss=losses, metrics=metrics)"
   ]
  },
  {
   "cell_type": "code",
   "execution_count": 26,
   "id": "ffb20e2b",
   "metadata": {},
   "outputs": [
    {
     "data": {
      "image/png": "[encoded data removed]",
      "text/plain": [
       "<Figure size 432x288 with 1 Axes>"
      ]
     },
     "metadata": {
      "needs_background": "light"
     },
     "output_type": "display_data"
    },
    {
     "data": {
      "image/png": "[encoded data removed]",
      "text/plain": [
       "<Figure size 432x288 with 1 Axes>"
      ]
     },
     "metadata": {
      "needs_background": "light"
     },
     "output_type": "display_data"
    },
    {
     "data": {
      "image/png": "[encoded data removed]",
      "text/plain": [
       "<Figure size 432x288 with 1 Axes>"
      ]
     },
     "metadata": {
      "needs_background": "light"
     },
     "output_type": "display_data"
    },
    {
     "name": "stdout",
     "output_type": "stream",
     "text": [
      "The accuracy of WindowCenter is 80.0%\n",
      "The accuracy of WindowWidth is 76.0%\n",
      "Mean absolute error of WindowCenter is 2.059999942779541\n",
      "Mean absolute error of WindowWidth is 2.309999942779541\n",
      "Mean squared error of WindowCenter is 21.989999771118164, RMSE: 4.690000057220459\n",
      "Mean squared errory of WindowWidth is 24.09000015258789, RMSE: 4.909999847412109\n"
     ]
    }
   ],
   "source": [
    "stop_early_mi = tf.keras.callbacks.EarlyStopping(monitor='val_loss', mode='min', patience=10)\n",
    "mi_history = mi_model.fit(x=[image_scaler(x_train_img), x_train_hbit], \n",
    "                          y = y_train, batch_size=256, epochs=100, \n",
    "                          validation_data=([image_scaler(x_val_img), x_val_hbit], y_val), verbose=0, callbacks=[stop_early_mi])\n",
    "\n",
    "\n",
    "# make a prediction with the model\n",
    "Y_pred = mi_model.predict([image_scaler(x_test_img), x_test_hbit])\n",
    "center_pred = Y_pred[0]\n",
    "width_pred = Y_pred[1]\n",
    "\n",
    "test_center = y_test[0]\n",
    "test_width = y_test[1]\n",
    "\n",
    "# difference between true and predicted values\n",
    "plot_diff(test_center, center_pred, title='CENTER')\n",
    "plot_diff(test_width, width_pred, title='WIDTH')\n",
    "\n",
    "# plot Loss\n",
    "plot_metrics(mi_history, metric_name='loss', title='LOSS')\n",
    "\n",
    "# calculate and print metrics\n",
    "mi_score_center = r2_score(test_center, center_pred.reshape(-1))\n",
    "print(\"The accuracy of WindowCenter is {}%\".format(round(mi_score_center, 2) *100))\n",
    "mi_score_width = r2_score(test_width, width_pred.reshape(-1))\n",
    "print(\"The accuracy of WindowWidth is {}%\".format(round(mi_score_width, 2) *100))\n",
    "\n",
    "mi_mae_center =  mean_absolute_error(test_center, center_pred.reshape(-1))\n",
    "print(\"Mean absolute error of WindowCenter is {}\".format(round(mi_mae_center, 2)))\n",
    "mi_mae_width =  mean_absolute_error(test_width, width_pred.reshape(-1))\n",
    "print(\"Mean absolute error of WindowWidth is {}\".format(round(mi_mae_width, 2)))\n",
    "\n",
    "mi_mse_center = mean_squared_error(test_center, center_pred.reshape(-1))\n",
    "print(\"Mean squared error of WindowCenter is {}, RMSE: {}\".format(round(mi_mse_center, 2), round(np.sqrt(mi_mse_center), 2)))\n",
    "mi_mse_width = mean_squared_error(test_width, width_pred.reshape(-1))\n",
    "print(\"Mean squared errory of WindowWidth is {}, RMSE: {}\".format(round(mi_mse_width, 2), round(np.sqrt(mi_mse_width), 2)))"
   ]
  },
  {
   "attachments": {},
   "cell_type": "markdown",
   "id": "a68a0c8e",
   "metadata": {},
   "source": [
    "## Only Modality"
   ]
  },
  {
   "cell_type": "code",
   "execution_count": 27,
   "id": "c6a331a5",
   "metadata": {},
   "outputs": [],
   "source": [
    "# build model\n",
    "\n",
    "# hyperparameters to adjust\n",
    "image_size = 128\n",
    "regularization_factor = 0.01\n",
    "learningrate = 0.0001\n",
    "\n",
    "layer_1 = 32\n",
    "layer_2 = 64\n",
    "layer_3 = 128\n",
    "layer_4 = 128\n",
    "layer_5 = 256\n",
    "\n",
    "metadata_1 = '32'\n",
    "metadata_2 = '64'\n",
    "metadata_3 = '128'\n",
    "metadata_4 = '256'\n",
    "\n",
    "dense_1 = '64'\n",
    "\n",
    "def build_mi_model():\n",
    "     # image and metadata inputs\n",
    "    input_img = Input(shape=(image_size, image_size, 1))\n",
    "    input_mod = Input(shape=(5,))\n",
    "\n",
    "\n",
    "     # CNN\n",
    "    x = Conv2D(layer_1, 3, kernel_regularizer=L2(regularization_factor), activation='relu') (input_img)\n",
    "    x = MaxPooling2D() (x)  \n",
    "\n",
    "    x = Conv2D(layer_2, 3, kernel_regularizer=L2(regularization_factor), activation='relu') (x)\n",
    "    x = MaxPooling2D() (x)    \n",
    "    \n",
    "    x = Conv2D(layer_3, 3, kernel_regularizer=L2(regularization_factor), activation='relu') (x)\n",
    "    x = MaxPooling2D() (x)\n",
    "    \n",
    "    x = Conv2D(layer_4, 3, kernel_regularizer=L2(regularization_factor), activation='relu') (x)\n",
    "    x = MaxPooling2D() (x)\n",
    "    \n",
    "    x = Conv2D(layer_5, 3, kernel_regularizer=L2(regularization_factor), activation='relu') (x)\n",
    "    x = MaxPooling2D() (x)\n",
    "\n",
    "    x = Flatten() (x)\n",
    "    \n",
    "    # metadata dense layers\n",
    "    metadata = Dense(units=metadata_1, activation='relu', kernel_regularizer=L2(regularization_factor)) (input_mod) \n",
    "    metadata = Dense(units=metadata_2, activation='relu', kernel_regularizer=L2(regularization_factor)) (metadata)  \n",
    "    metadata = Dense(units=metadata_3, activation='relu', kernel_regularizer=L2(regularization_factor)) (metadata) \n",
    "    metadata = Dense(units=metadata_4, activation='relu', kernel_regularizer=L2(regularization_factor)) (metadata) \n",
    "      \n",
    "   \n",
    "    # combined layers\n",
    "    combined = keras.layers.concatenate([x, metadata])\n",
    "               \n",
    "    x = Dense(units=dense_1, activation='relu', kernel_regularizer=L2(regularization_factor)) (combined)  \n",
    "              \n",
    "    output1 = Dense(units='1', activation='linear', name=\"window_center\")(x)\n",
    "    output2 = Dense(units='1', activation='linear', name=\"window_width\")(x)\n",
    "    \n",
    "    model = Model(inputs=[input_img, input_mod], outputs=[output1, output2])\n",
    "    \n",
    "    return model\n",
    "\n",
    "mi_model = build_mi_model()\n",
    "\n",
    "\n",
    "# optimizer, losses and metrics and compile model\n",
    "optim = keras.optimizers.Adam(learning_rate=learningrate)\n",
    "\n",
    "loss1 = keras.losses.MeanSquaredError()\n",
    "loss2 = keras.losses.MeanSquaredError()\n",
    "losses = {\n",
    "    \"window_center\": loss1,\n",
    "    \"window_width\": loss2,\n",
    "}\n",
    "\n",
    "metric1 = tf.keras.metrics.MeanSquaredError()\n",
    "metric2 = tf.keras.metrics.MeanSquaredError()\n",
    "metrics = {\n",
    "    \"window_center\": metric1,\n",
    "    \"window_width\": metric2,\n",
    "}\n",
    "\n",
    "mi_model.compile(optimizer=optim, loss=losses, metrics=metrics)"
   ]
  },
  {
   "cell_type": "code",
   "execution_count": 28,
   "id": "53aed934",
   "metadata": {},
   "outputs": [
    {
     "data": {
      "image/png": "[encoded data removed]",
      "text/plain": [
       "<Figure size 432x288 with 1 Axes>"
      ]
     },
     "metadata": {
      "needs_background": "light"
     },
     "output_type": "display_data"
    },
    {
     "data": {
      "image/png": "[encoded data removed]",
      "text/plain": [
       "<Figure size 432x288 with 1 Axes>"
      ]
     },
     "metadata": {
      "needs_background": "light"
     },
     "output_type": "display_data"
    },
    {
     "data": {
      "image/png": "[encoded data removed]",
      "text/plain": [
       "<Figure size 432x288 with 1 Axes>"
      ]
     },
     "metadata": {
      "needs_background": "light"
     },
     "output_type": "display_data"
    },
    {
     "name": "stdout",
     "output_type": "stream",
     "text": [
      "The accuracy of WindowCenter is 81.0%\n",
      "The accuracy of WindowWidth is 76.0%\n",
      "Mean absolute error of WindowCenter is 1.840000033378601\n",
      "Mean absolute error of WindowWidth is 2.1700000762939453\n",
      "Mean squared error of WindowCenter is 21.559999465942383, RMSE: 4.639999866485596\n",
      "Mean squared errory of WindowWidth is 24.170000076293945, RMSE: 4.920000076293945\n"
     ]
    }
   ],
   "source": [
    "stop_early_mi = tf.keras.callbacks.EarlyStopping(monitor='val_loss', mode='min', patience=10)\n",
    "mi_history = mi_model.fit(x=[image_scaler(x_train_img), x_train_mod], \n",
    "                          y = y_train, batch_size=256, epochs=100, \n",
    "                          validation_data=([image_scaler(x_val_img), x_val_mod], y_val), verbose=0, callbacks=[stop_early_mi])\n",
    "\n",
    "\n",
    "# make a prediction with the model\n",
    "Y_pred = mi_model.predict([image_scaler(x_test_img), x_test_mod])\n",
    "center_pred = Y_pred[0]\n",
    "width_pred = Y_pred[1]\n",
    "\n",
    "test_center = y_test[0]\n",
    "test_width = y_test[1]\n",
    "\n",
    "# difference between true and predicted values\n",
    "plot_diff(test_center, center_pred, title='CENTER')\n",
    "plot_diff(test_width, width_pred, title='WIDTH')\n",
    "\n",
    "# plot Loss\n",
    "plot_metrics(mi_history, metric_name='loss', title='LOSS')\n",
    "\n",
    "\n",
    "# calculate and print metrics\n",
    "mi_score_center = r2_score(test_center, center_pred.reshape(-1))\n",
    "print(\"The accuracy of WindowCenter is {}%\".format(round(mi_score_center, 2) *100))\n",
    "mi_score_width = r2_score(test_width, width_pred.reshape(-1))\n",
    "print(\"The accuracy of WindowWidth is {}%\".format(round(mi_score_width, 2) *100))\n",
    "\n",
    "mi_mae_center =  mean_absolute_error(test_center, center_pred.reshape(-1))\n",
    "print(\"Mean absolute error of WindowCenter is {}\".format(round(mi_mae_center, 2)))\n",
    "mi_mae_width =  mean_absolute_error(test_width, width_pred.reshape(-1))\n",
    "print(\"Mean absolute error of WindowWidth is {}\".format(round(mi_mae_width, 2)))\n",
    "\n",
    "mi_mse_center = mean_squared_error(test_center, center_pred.reshape(-1))\n",
    "print(\"Mean squared error of WindowCenter is {}, RMSE: {}\".format(round(mi_mse_center, 2), round(np.sqrt(mi_mse_center), 2)))\n",
    "mi_mse_width = mean_squared_error(test_width, width_pred.reshape(-1))\n",
    "print(\"Mean squared errory of WindowWidth is {}, RMSE: {}\".format(round(mi_mse_width, 2), round(np.sqrt(mi_mse_width), 2)))"
   ]
  },
  {
   "attachments": {},
   "cell_type": "markdown",
   "id": "8f754a3d",
   "metadata": {},
   "source": [
    "## Only BodyPartExamined"
   ]
  },
  {
   "cell_type": "code",
   "execution_count": 29,
   "id": "e5d36802",
   "metadata": {},
   "outputs": [],
   "source": [
    "# build model\n",
    "\n",
    "# hyperparameters to adjust\n",
    "image_size = 128\n",
    "regularization_factor = 0.01\n",
    "learningrate = 0.0001\n",
    "\n",
    "layer_1 = 32\n",
    "layer_2 = 64\n",
    "layer_3 = 128\n",
    "layer_4 = 128\n",
    "layer_5 = 256\n",
    "\n",
    "metadata_1 = '32'\n",
    "metadata_2 = '64'\n",
    "metadata_3 = '128'\n",
    "metadata_4 = '256'\n",
    "\n",
    "dense_1 = '64'\n",
    "\n",
    "def build_mi_model():\n",
    "    # image and metadata inputs\n",
    "    input_img = Input(shape=(image_size, image_size, 1))\n",
    "    input_bpe = Input(shape=(27,))\n",
    "\n",
    "    x = Conv2D(layer_1, 3, kernel_regularizer=L2(regularization_factor), activation='relu') (input_img)\n",
    "    x = MaxPooling2D() (x)  \n",
    "\n",
    "    x = Conv2D(layer_2, 3, kernel_regularizer=L2(regularization_factor), activation='relu') (x)\n",
    "    x = MaxPooling2D() (x)    \n",
    "    \n",
    "    x = Conv2D(layer_3, 3, kernel_regularizer=L2(regularization_factor), activation='relu') (x)\n",
    "    x = MaxPooling2D() (x)\n",
    "    \n",
    "    x = Conv2D(layer_4, 3, kernel_regularizer=L2(regularization_factor), activation='relu') (x)\n",
    "    x = MaxPooling2D() (x)\n",
    "    \n",
    "    x = Conv2D(layer_5, 3, kernel_regularizer=L2(regularization_factor), activation='relu') (x)\n",
    "    x = MaxPooling2D() (x)\n",
    "\n",
    "    x = Flatten() (x)\n",
    "    \n",
    "\n",
    "    # metadata dense layers\n",
    "    metadata = Dense(units=metadata_1, activation='relu', kernel_regularizer=L2(regularization_factor)) (input_bpe) \n",
    "    metadata = Dense(units=metadata_2, activation='relu', kernel_regularizer=L2(regularization_factor)) (metadata)  \n",
    "    metadata = Dense(units=metadata_3, activation='relu', kernel_regularizer=L2(regularization_factor)) (metadata) \n",
    "    metadata = Dense(units=metadata_4, activation='relu', kernel_regularizer=L2(regularization_factor)) (metadata) \n",
    "      \n",
    "    \n",
    "    # combined layers\n",
    "    combined = keras.layers.concatenate([x, metadata])\n",
    "               \n",
    "    x = Dense(units=dense_1, activation='relu', kernel_regularizer=L2(regularization_factor)) (combined)  \n",
    "              \n",
    "    output1 = Dense(units='1', activation='linear', name=\"window_center\")(x)\n",
    "    output2 = Dense(units='1', activation='linear', name=\"window_width\")(x)\n",
    "    \n",
    "    model = Model(inputs=[input_img, input_bpe], outputs=[output1, output2])\n",
    "    \n",
    "    return model\n",
    "\n",
    "mi_model = build_mi_model()\n",
    "\n",
    "\n",
    "# optimizer, losses and metrics and compile model\n",
    "optim = keras.optimizers.Adam(learning_rate=learningrate)\n",
    "\n",
    "loss1 = keras.losses.MeanSquaredError()\n",
    "loss2 = keras.losses.MeanSquaredError()\n",
    "losses = {\n",
    "    \"window_center\": loss1,\n",
    "    \"window_width\": loss2,\n",
    "}\n",
    "\n",
    "metric1 = tf.keras.metrics.MeanSquaredError()\n",
    "metric2 = tf.keras.metrics.MeanSquaredError()\n",
    "metrics = {\n",
    "    \"window_center\": metric1,\n",
    "    \"window_width\": metric2,\n",
    "}\n",
    "\n",
    "mi_model.compile(optimizer=optim, loss=losses, metrics=metrics)"
   ]
  },
  {
   "cell_type": "code",
   "execution_count": 30,
   "id": "e3c15514",
   "metadata": {},
   "outputs": [
    {
     "data": {
      "image/png": "[encoded data removed]",
      "text/plain": [
       "<Figure size 432x288 with 1 Axes>"
      ]
     },
     "metadata": {
      "needs_background": "light"
     },
     "output_type": "display_data"
    },
    {
     "data": {
      "image/png": "[encoded data removed]",
      "text/plain": [
       "<Figure size 432x288 with 1 Axes>"
      ]
     },
     "metadata": {
      "needs_background": "light"
     },
     "output_type": "display_data"
    },
    {
     "data": {
      "image/png": "[encoded data removed]",
      "text/plain": [
       "<Figure size 432x288 with 1 Axes>"
      ]
     },
     "metadata": {
      "needs_background": "light"
     },
     "output_type": "display_data"
    },
    {
     "name": "stdout",
     "output_type": "stream",
     "text": [
      "The accuracy of WindowCenter is 82.0%\n",
      "The accuracy of WindowWidth is 78.0%\n",
      "Mean absolute error of WindowCenter is 1.8899999856948853\n",
      "Mean absolute error of WindowWidth is 2.109999895095825\n",
      "Mean squared error of WindowCenter is 20.31999969482422, RMSE: 4.510000228881836\n",
      "Mean squared errory of WindowWidth is 21.790000915527344, RMSE: 4.670000076293945\n"
     ]
    }
   ],
   "source": [
    "stop_early_mi = tf.keras.callbacks.EarlyStopping(monitor='val_loss', mode='min', patience=10)\n",
    "mi_history = mi_model.fit(x=[image_scaler(x_train_img), x_train_bpe], \n",
    "                          y = y_train, batch_size=256, epochs=100, \n",
    "                          validation_data=([image_scaler(x_val_img), x_val_bpe], y_val), verbose=0, callbacks=[stop_early_mi])\n",
    "\n",
    "\n",
    "# make a prediction with the model\n",
    "Y_pred = mi_model.predict([image_scaler(x_test_img), x_test_bpe])\n",
    "center_pred = Y_pred[0]\n",
    "width_pred = Y_pred[1]\n",
    "\n",
    "test_center = y_test[0]\n",
    "test_width = y_test[1]\n",
    "\n",
    "# difference between true and predicted values\n",
    "plot_diff(test_center, center_pred, title='CENTER')\n",
    "plot_diff(test_width, width_pred, title='WIDTH')\n",
    "\n",
    "# plot Loss\n",
    "plot_metrics(mi_history, metric_name='loss', title='LOSS')\n",
    "\n",
    "# calculate and print metrics\n",
    "mi_score_center = r2_score(test_center, center_pred.reshape(-1))\n",
    "print(\"The accuracy of WindowCenter is {}%\".format(round(mi_score_center, 2) *100))\n",
    "mi_score_width = r2_score(test_width, width_pred.reshape(-1))\n",
    "print(\"The accuracy of WindowWidth is {}%\".format(round(mi_score_width, 2) *100))\n",
    "\n",
    "mi_mae_center =  mean_absolute_error(test_center, center_pred.reshape(-1))\n",
    "print(\"Mean absolute error of WindowCenter is {}\".format(round(mi_mae_center, 2)))\n",
    "mi_mae_width =  mean_absolute_error(test_width, width_pred.reshape(-1))\n",
    "print(\"Mean absolute error of WindowWidth is {}\".format(round(mi_mae_width, 2)))\n",
    "\n",
    "mi_mse_center = mean_squared_error(test_center, center_pred.reshape(-1))\n",
    "print(\"Mean squared error of WindowCenter is {}, RMSE: {}\".format(round(mi_mse_center, 2), round(np.sqrt(mi_mse_center), 2)))\n",
    "mi_mse_width = mean_squared_error(test_width, width_pred.reshape(-1))\n",
    "print(\"Mean squared errory of WindowWidth is {}, RMSE: {}\".format(round(mi_mse_width, 2), round(np.sqrt(mi_mse_width), 2)))"
   ]
  }
 ],
 "metadata": {
  "kernelspec": {
   "display_name": "Python 3",
   "language": "python",
   "name": "python3"
  },
  "language_info": {
   "codemirror_mode": {
    "name": "ipython",
    "version": 3
   },
   "file_extension": ".py",
   "mimetype": "text/x-python",
   "name": "python",
   "nbconvert_exporter": "python",
   "pygments_lexer": "ipython3",
   "version": "3.6.13"
  }
 },
 "nbformat": 4,
 "nbformat_minor": 5
}
