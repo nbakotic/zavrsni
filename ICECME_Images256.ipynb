{
 "cells": [
  {
   "attachments": {},
   "cell_type": "markdown",
   "id": "d34b67a0",
   "metadata": {},
   "source": [
    "# 0. Setup"
   ]
  },
  {
   "cell_type": "code",
   "execution_count": 1,
   "id": "326e56ba",
   "metadata": {},
   "outputs": [],
   "source": [
    "# libraries\n",
    "\n",
    "import matplotlib.pyplot as plt\n",
    "import pandas as pd\n",
    "import os\n",
    "import numpy as np\n",
    "from PIL import Image as PilImage\n",
    "from typing import Tuple\n",
    "import tensorflow as tf\n",
    "from tensorflow import keras\n",
    "from sklearn.model_selection import train_test_split\n",
    "from keras.preprocessing.sequence import pad_sequences\n",
    "from tensorflow.keras.models import Model\n",
    "from tensorflow.keras.layers import Input, Lambda, Conv2D, BatchNormalization, MaxPooling2D, Dense, Flatten, Dropout, Activation\n",
    "from tensorflow.keras.regularizers import L2\n",
    "\n",
    "# working directories\n",
    "WORKDIR = os.path.abspath('D:\\\\Users\\\\nbakotic\\\\iccecme-dataset') # get the path of this file - image metadata\n",
    "IMAGESDIR = os.path.join(WORKDIR, 'imagespng256') # get the path of image folder\n",
    "\n",
    "gpus = tf.config.experimental.list_physical_devices('GPU')\n",
    "for gpu in gpus:\n",
    "    tf.config.experimental.set_memory_growth(gpu, True)"
   ]
  },
  {
   "attachments": {},
   "cell_type": "markdown",
   "id": "d4647696",
   "metadata": {},
   "source": [
    "### Plotting Functions"
   ]
  },
  {
   "cell_type": "code",
   "execution_count": 2,
   "id": "a5b711b6",
   "metadata": {},
   "outputs": [],
   "source": [
    "def plot_diff(y_true, y_pred, title=''):\n",
    "    plt.scatter(y_true, y_pred)\n",
    "    plt.title(title)\n",
    "    plt.xlabel('True Values')\n",
    "    plt.ylabel('Predictions')\n",
    "    plt.axis('equal')\n",
    "    plt.axis('square')\n",
    "    plt.xlim(plt.xlim())\n",
    "    plt.ylim(plt.ylim())\n",
    "    plt.show()\n",
    "\n",
    "\n",
    "def plot_metrics(history, metric_name, title):\n",
    "    plt.title(title)\n",
    "    plt.plot(history.history[metric_name], color='blue', label=metric_name)\n",
    "    plt.plot(history.history['val_' + metric_name], color='green', label='val_' + metric_name)\n",
    "    plt.show()\n",
    "    \n",
    "from sklearn.metrics import r2_score, mean_absolute_error, mean_squared_error"
   ]
  },
  {
   "attachments": {},
   "cell_type": "markdown",
   "id": "4e24367f",
   "metadata": {},
   "source": [
    "# 1.1 - Load and Process Metadata"
   ]
  },
  {
   "cell_type": "code",
   "execution_count": 4,
   "id": "757795ab",
   "metadata": {},
   "outputs": [],
   "source": [
    "# read metadata, drop target columns, original image size information and study description (natural language)\n",
    "# fill unknown values of body part examined with 'UNKNOWN'\n",
    "df = pd.read_csv(os.path.join(WORKDIR, 'metadata.csv'), index_col='id')\n",
    "df = df.drop(columns=['WindowCenter' ,'WindowWidth', 'Rows', 'Columns', 'StudyDescription'])\n",
    "df = df.fillna(value='UNKNOWN')\n",
    "\n",
    "# one hot encode the remaining columns, drop original columns and redundant columns\n",
    "mod_dummies = pd.get_dummies(df.Modality)\n",
    "bpe_dummies = pd.get_dummies(df.BodyPartExamined)\n",
    "hbit_dummies = pd.get_dummies(df.HighBit)\n",
    "df = pd.concat([df, hbit_dummies, mod_dummies, bpe_dummies], axis='columns')\n",
    "df = df.drop(columns=['Modality' ,'BodyPartExamined', 'HighBit', 7, 'XA','UNKNOWN'])\n",
    "\n",
    "# read metadata and drop all columns except target labels - WindowWidth and WindowCenter\n",
    "labels_df = pd.read_csv(os.path.join(WORKDIR, 'metadata.csv'), index_col='id')\n",
    "labels_df = labels_df.drop(columns=['Modality', 'Rows', 'Columns', 'BodyPartExamined', 'HighBit', 'StudyDescription'])\n",
    "\n",
    "# format numbers - find cells that contain two instead of one number and return only the first number\n",
    "def extract_number_from_list(val):\n",
    "    if ',' in val:\n",
    "        idx = val.find(',')\n",
    "        return val[1:idx]\n",
    "    else:\n",
    "        return val\n",
    "    \n",
    "labels_df = labels_df.applymap(extract_number_from_list)\n",
    "\n",
    "# convert string values to float32\n",
    "labels_df['WindowCenter'] = labels_df['WindowCenter'].astype('float32')\n",
    "labels_df['WindowWidth'] = labels_df['WindowWidth'].astype('float32')\n",
    "\n",
    "# scale numeric values to range from 0 to 255\n",
    "labels_df['WindowCenter'] = np.maximum(np.array(labels_df['WindowCenter']), 0) / np.array(labels_df['WindowCenter']).max() * 255.0\n",
    "labels_df['WindowWidth'] = np.maximum(np.array(labels_df['WindowWidth']), 0) / np.array(labels_df['WindowWidth']).max() * 255.0\n",
    "\n",
    "# some images are completely black and contain only zero values, they will be removed from dataframes\n",
    "# load image and drop row from dataframe if the image contains only zeroes (black)\n",
    "def remove_black_images(df):\n",
    "    for id in df.index:\n",
    "        img = np.array(PilImage.open(os.path.join(IMAGESDIR, str(id) + '.png')).convert('L'))\n",
    "        #some images only contain 0 values, even in original npy file and will be ignored in the dataset\n",
    "        if (not(np.min(img) == np.max(img) == 0)):\n",
    "            df.drop(id)\n",
    "\n",
    "    return df\n",
    "\n",
    "df = remove_black_images(df)\n",
    "labels_df = remove_black_images(labels_df)"
   ]
  },
  {
   "attachments": {},
   "cell_type": "markdown",
   "id": "847f58a6",
   "metadata": {},
   "source": [
    "# 2. Create Datasets"
   ]
  },
  {
   "cell_type": "code",
   "execution_count": 5,
   "id": "a308d3d9",
   "metadata": {},
   "outputs": [],
   "source": [
    "# load png images using dataframe index as file names and return a numpy array of images\n",
    "def get_image(df):\n",
    "    x_img = []\n",
    "\n",
    "    for id in df.index:\n",
    "        \n",
    "        img = np.array(PilImage.open(os.path.join(IMAGESDIR, str(id) + '.png')).convert('L'))\n",
    "        # 1 grayscale dimension is dropped by default so it's added back manually\n",
    "        img = np.expand_dims(img, -1) \n",
    "\n",
    "        x_img.append(img)\n",
    "\n",
    "    x_img = np.array(x_img)\n",
    "\n",
    "    return x_img\n",
    "\n",
    "# get all images to obtain dataset means and standard deviation to standardize images\n",
    "X = get_image(df)\n",
    "img_means = np.mean(X)\n",
    "img_std_devs = np.std(X)\n",
    "del X\n",
    "\n",
    "def image_scaler(images):\n",
    "    return (images - img_means) / img_std_devs\n",
    "\n",
    "\n",
    "# format datasets - return tuple of labels as arrays\n",
    "def format_output(data):\n",
    "    window_center = data.pop('WindowCenter')\n",
    "    window_center = np.array(window_center)\n",
    "    window_width = data.pop('WindowWidth')\n",
    "    window_width = np.array(window_width)\n",
    "    return window_center, window_width\n",
    "\n",
    "\n",
    "# choose train, validation and test rations\n",
    "train_ratio = 0.72\n",
    "validation_ratio = 0.08\n",
    "test_ratio = 0.20\n",
    "\n",
    "# select a random state seed for more repeatable results\n",
    "split_seed = 9 # determined as best experimentally from 1 to 50, better split option might exist\n",
    "\n",
    "# train - test split\n",
    "x_train, x_test, y_train, y_test = train_test_split(df, labels_df, test_size=1-train_ratio, random_state=split_seed)\n",
    "\n",
    "# test - validation split,validation is treated as train data\n",
    "x_val, x_test, y_val, y_test = train_test_split(x_test, y_test, test_size=test_ratio/(test_ratio + validation_ratio), random_state=split_seed)\n",
    "\n",
    "# format outputs for each split\n",
    "y_train = format_output(y_train)\n",
    "y_val = format_output(y_val)\n",
    "y_test = format_output(y_test)\n",
    "\n",
    "# extract image from dataframe\n",
    "x_train_img = get_image(x_train)\n",
    "x_val_img = get_image(x_val)\n",
    "x_test_img = get_image(x_test)\n",
    "\n",
    "# convert dataframe to array\n",
    "x_train_metadata = np.array(x_train)\n",
    "x_val_metadata = np.array(x_val)\n",
    "x_test_metadata = np.array(x_test)"
   ]
  },
  {
   "cell_type": "code",
   "execution_count": 6,
   "id": "a1eee185",
   "metadata": {},
   "outputs": [],
   "source": [
    "# custom dataset generator class\n",
    "from tensorflow.keras.utils import Sequence \n",
    "class DataGenerator(Sequence):\n",
    "    def __init__(self, x_set, y_set, batch_size):\n",
    "        self.x, self.y = x_set, y_set\n",
    "        self.batch_size = batch_size\n",
    "\n",
    "    def __len__(self):\n",
    "        return int(np.ceil(len(self.x) / float(self.batch_size)))\n",
    "\n",
    "    def __getitem__(self, idx):\n",
    "        batch_x = self.x[idx * self.batch_size:(idx + 1) * self.batch_size]\n",
    "        batch_y = (self.y[0][idx * self.batch_size:(idx + 1) * self.batch_size], self.y[0][idx * self.batch_size:(idx + 1) * self.batch_size])\n",
    "        return batch_x, batch_y\n",
    "\n",
    "class TestGenerator(Sequence):\n",
    "    def __init__(self, x_set, batch_size):\n",
    "        self.x = x_set\n",
    "        self.batch_size = batch_size\n",
    "\n",
    "    def __len__(self):\n",
    "        return int(np.ceil(len(self.x) / float(self.batch_size)))\n",
    "\n",
    "    def __getitem__(self, idx):\n",
    "        batch_x = self.x[idx * self.batch_size:(idx + 1) * self.batch_size]\n",
    "        return batch_x\n",
    "\n",
    "BATCH_SIZE = 128\n",
    "train_gen = DataGenerator(image_scaler(x_train_img), y_train, BATCH_SIZE)\n",
    "val_gen = DataGenerator(image_scaler(x_val_img), y_val, BATCH_SIZE)\n",
    "test_gen = TestGenerator(image_scaler(x_test_img), BATCH_SIZE)"
   ]
  },
  {
   "attachments": {},
   "cell_type": "markdown",
   "id": "d3d903ca",
   "metadata": {},
   "source": [
    "# MULTI OUTPUT MODEL"
   ]
  },
  {
   "cell_type": "code",
   "execution_count": 17,
   "id": "d8f70d23",
   "metadata": {},
   "outputs": [],
   "source": [
    "image_size = 256\n",
    "regularization_factor = 0.01  #0.01\n",
    "learningrate = 0.0001\n",
    "\n",
    "\n",
    "layer_1 = 32  \n",
    "layer_2 = 64  \n",
    "layer_3 = 128 \n",
    "layer_4 = 128 \n",
    "layer_5 = 256 \n",
    "layer_6 = 256 \n",
    "\n",
    "\n",
    "dense1 = '128' \n",
    "dense2 = '128'   \n",
    "\n",
    "\n",
    "def build_mo_model():\n",
    "    inputs = Input(shape=(image_size, image_size, 1))\n",
    "    \n",
    "    x = Conv2D(layer_1, 3, kernel_regularizer=L2(regularization_factor), activation='relu') (inputs)\n",
    "    x = MaxPooling2D() (x)  \n",
    "\n",
    "    x = Conv2D(layer_2, 3, kernel_regularizer=L2(regularization_factor), activation='relu') (x)\n",
    "    x = MaxPooling2D() (x)    \n",
    "    \n",
    "    x = Conv2D(layer_3, 3, kernel_regularizer=L2(regularization_factor), activation='relu') (x)\n",
    "    x = MaxPooling2D() (x)\n",
    "    \n",
    "    x = Conv2D(layer_4, 3, kernel_regularizer=L2(regularization_factor), activation='relu') (x)\n",
    "    x = MaxPooling2D() (x)\n",
    "    \n",
    "    x = Conv2D(layer_5, 3, kernel_regularizer=L2(regularization_factor), activation='relu') (x)\n",
    "    x = MaxPooling2D() (x) \n",
    "\n",
    "    x = Conv2D(layer_6, 3, kernel_regularizer=L2(regularization_factor), activation='relu') (x)\n",
    "    x = MaxPooling2D() (x) \n",
    "    \n",
    "    x = Flatten() (x) \n",
    "\n",
    "    x = Dense(units=dense1, activation='relu', kernel_regularizer=L2(regularization_factor)) (x)\n",
    "    x = Dense(units=dense2, activation='relu', kernel_regularizer=L2(regularization_factor)) (x) \n",
    "               \n",
    "    output1 = Dense(units='1', activation='linear', name=\"window_center\")(x)\n",
    "    output2 = Dense(units='1', activation='linear', name=\"window_width\")(x)\n",
    "    \n",
    "    model = Model(inputs=inputs, outputs=[output1, output2])\n",
    "    \n",
    "    return model\n",
    "\n",
    "mo_model = build_mo_model()\n",
    "\n",
    "# optimizer, losses and metrics and compile model\n",
    "optim = keras.optimizers.Adam(learning_rate=learningrate) \n",
    "\n",
    "loss1 = keras.losses.MeanSquaredError()\n",
    "loss2 = keras.losses.MeanSquaredError()\n",
    "losses = {\n",
    "    \"window_center\": loss1,\n",
    "    \"window_width\": loss2,\n",
    "}\n",
    "\n",
    "metric1 = tf.keras.metrics.MeanSquaredError()\n",
    "metric2 = tf.keras.metrics.MeanSquaredError()\n",
    "metrics = {\n",
    "    \"window_center\": metric1,\n",
    "    \"window_width\": metric2,\n",
    "}\n",
    " \n",
    "mo_model.compile(optimizer=optim, loss=losses, metrics=metrics)"
   ]
  },
  {
   "cell_type": "code",
   "execution_count": 18,
   "id": "d7adafdf",
   "metadata": {
    "scrolled": true
   },
   "outputs": [],
   "source": [
    "stop_early = tf.keras.callbacks.EarlyStopping(monitor='val_loss', mode='min', patience=10)\n",
    "mo_history = mo_model.fit(train_gen, epochs=100, validation_data=val_gen, verbose=0)"
   ]
  },
  {
   "cell_type": "code",
   "execution_count": 19,
   "id": "dc62d2a2",
   "metadata": {},
   "outputs": [
    {
     "data": {
      "image/png": "[encoded data removed]",
      "text/plain": [
       "<Figure size 432x288 with 1 Axes>"
      ]
     },
     "metadata": {
      "needs_background": "light"
     },
     "output_type": "display_data"
    },
    {
     "data": {
      "image/png": "[encoded data removed]",
      "text/plain": [
       "<Figure size 432x288 with 1 Axes>"
      ]
     },
     "metadata": {
      "needs_background": "light"
     },
     "output_type": "display_data"
    },
    {
     "data": {
      "image/png": "[encoded data removed]",
      "text/plain": [
       "<Figure size 432x288 with 1 Axes>"
      ]
     },
     "metadata": {
      "needs_background": "light"
     },
     "output_type": "display_data"
    },
    {
     "name": "stdout",
     "output_type": "stream",
     "text": [
      "The accuracy of WindowCenter is 85.0%\n",
      "The accuracy of WindowWidth is 74.0%\n",
      "Mean absolute error of WindowCenter is 1.7699999809265137\n",
      "Mean absolute error of WindowWidth is 2.8399999141693115\n",
      "Mean squared error of WindowCenter is 16.950000762939453, RMSE: 4.119999885559082\n",
      "Mean squared error of WindowWidth is 26.079999923706055, RMSE: 5.110000133514404\n"
     ]
    }
   ],
   "source": [
    "# make a prediction with the model\n",
    "Y_pred = mo_model.predict(test_gen)\n",
    "center_pred = Y_pred[0]\n",
    "width_pred = Y_pred[1]\n",
    "\n",
    "test_center = y_test[0]\n",
    "test_width = y_test[1]\n",
    "\n",
    "# difference between true and predicted values\n",
    "plot_diff(test_center, center_pred, title='CENTER')\n",
    "plot_diff(test_width, width_pred, title='WIDTH')\n",
    "\n",
    "# plot loss\n",
    "plot_metrics(mo_history, metric_name='loss', title='LOSS')\n",
    "\n",
    "# calculate and print metrics\n",
    "mo_score_center = r2_score(test_center, center_pred.reshape(-1))\n",
    "print(\"The accuracy of WindowCenter is {}%\".format(round(mo_score_center, 2) *100))\n",
    "mo_score_width = r2_score(test_width, width_pred.reshape(-1))\n",
    "print(\"The accuracy of WindowWidth is {}%\".format(round(mo_score_width, 2) *100))\n",
    "\n",
    "mo_mae_center =  mean_absolute_error(test_center, center_pred.reshape(-1))\n",
    "print(\"Mean absolute error of WindowCenter is {}\".format(round(mo_mae_center, 2)))\n",
    "mo_mae_width =  mean_absolute_error(test_width, width_pred.reshape(-1))\n",
    "print(\"Mean absolute error of WindowWidth is {}\".format(round(mo_mae_width, 2)))\n",
    "\n",
    "mo_mse_center = mean_squared_error(test_center, center_pred.reshape(-1))\n",
    "print(\"Mean squared error of WindowCenter is {}, RMSE: {}\".format(round(mo_mse_center, 2), round(np.sqrt(mo_mse_center), 2)))\n",
    "mo_mse_width = mean_squared_error(test_width, width_pred.reshape(-1))\n",
    "print(\"Mean squared error of WindowWidth is {}, RMSE: {}\".format(round(mo_mse_width, 2), round(np.sqrt(mo_mse_width), 2)))"
   ]
  }
 ],
 "metadata": {
  "kernelspec": {
   "display_name": "Python 3",
   "language": "python",
   "name": "python3"
  },
  "language_info": {
   "codemirror_mode": {
    "name": "ipython",
    "version": 3
   },
   "file_extension": ".py",
   "mimetype": "text/x-python",
   "name": "python",
   "nbconvert_exporter": "python",
   "pygments_lexer": "ipython3",
   "version": "3.6.13"
  }
 },
 "nbformat": 4,
 "nbformat_minor": 5
}
