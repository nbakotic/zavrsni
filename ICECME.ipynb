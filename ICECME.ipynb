{
 "cells": [
  {
   "cell_type": "markdown",
   "id": "d34b67a0",
   "metadata": {},
   "source": [
    "# 1. Setup and Load Data"
   ]
  },
  {
   "cell_type": "markdown",
   "id": "c0e0e638",
   "metadata": {},
   "source": [
    "Dependencies"
   ]
  },
  {
   "cell_type": "code",
   "execution_count": 108,
   "id": "326e56ba",
   "metadata": {},
   "outputs": [],
   "source": [
    "import matplotlib.pyplot as plt\n",
    "import pandas as pd\n",
    "import os\n",
    "import numpy as np\n",
    "\n",
    "import tensorflow as tf\n",
    "from tensorflow import keras\n",
    "from sklearn.model_selection import train_test_split"
   ]
  },
  {
   "cell_type": "markdown",
   "id": "42eba958",
   "metadata": {},
   "source": [
    "Working Directories"
   ]
  },
  {
   "cell_type": "code",
   "execution_count": 109,
   "id": "c8ec14a4",
   "metadata": {},
   "outputs": [],
   "source": [
    "# work directories\n",
    "WORKDIR = os.path.abspath('') # get the path of this file - image metadata\n",
    "IMAGESDIR = os.path.join(WORKDIR, 'images') # get the path of image folder"
   ]
  },
  {
   "cell_type": "code",
   "execution_count": 110,
   "id": "d623456e",
   "metadata": {},
   "outputs": [],
   "source": [
    "# read metadata\n",
    "metadata_df = pd.read_csv(os.path.join(WORKDIR, 'metadata.csv'), index_col='id')\n",
    "# print(metadata_df) -> view data"
   ]
  },
  {
   "cell_type": "markdown",
   "id": "43112e97",
   "metadata": {},
   "source": [
    "## 1.1 Prepare the data for use\n",
    "In this task, we are interested to see if the model can predict values 'WindowCenter' and 'WindowWidth' from the image alone,\n",
    "without other metadata. Therefore, other columns will be dropped. The effect of other metadata will be explored later."
   ]
  },
  {
   "cell_type": "code",
   "execution_count": 111,
   "id": "83504ca4",
   "metadata": {},
   "outputs": [],
   "source": [
    "# drop columns that aren't needed\n",
    "metadata_df = metadata_df.drop(columns=['Modality', 'Rows', 'Columns', 'BodyPartExamined', 'HighBit', 'StudyDescription'])\n",
    "# print(metadata_df) -> view data after dropping columns"
   ]
  },
  {
   "cell_type": "markdown",
   "id": "9cb1028f",
   "metadata": {},
   "source": [
    "Upon inspecting the data, it can be seen that some of it is in a different format, namely [number, number] while majority of it is a single number. For the time being, these rows will be removed from the dataset.\n",
    "By running the 'type(metadata_df.iloc[0,0])' command, it can be checked which data type are the values, in this case it is string. Therefore, values that do not match the standard format can be removed with string condition."
   ]
  },
  {
   "cell_type": "markdown",
   "id": "d07af99e",
   "metadata": {},
   "source": [
    "Since some rows contain two values for window center and width, only the first value will be used for analysis. This is how the original paper this is based on did it so that's how I'm doing it too."
   ]
  },
  {
   "cell_type": "code",
   "execution_count": 112,
   "id": "2789e100",
   "metadata": {},
   "outputs": [],
   "source": [
    "# This function finds cells that contain two instead of one number and returns only the first number\n",
    "def extract_number_from_list(val):\n",
    "    if ',' in val:\n",
    "        idx = val.find(',')\n",
    "        return val[1:idx]\n",
    "    else:\n",
    "        return val\n",
    "\n",
    "    \n",
    "metadata_df = metadata_df.applymap(extract_number_from_list)"
   ]
  },
  {
   "cell_type": "code",
   "execution_count": 113,
   "id": "fb30a49d",
   "metadata": {},
   "outputs": [],
   "source": [
    "# since ML models require numeric data, string values will be converted to float\n",
    "metadata_df['WindowCenter'] = metadata_df['WindowCenter'].astype('float32')\n",
    "metadata_df['WindowWidth'] = metadata_df['WindowWidth'].astype('float32')\n",
    "\n",
    "# print(metadata_df) -> check data after conversion"
   ]
  },
  {
   "cell_type": "markdown",
   "id": "6e0268ea",
   "metadata": {},
   "source": [
    "## WARNING\n",
    "Due to testing the model on my local machine, which has very limited resources and doesn't support GPU computation, I decided\n",
    "to limit the amount of data that will be used during testing phase. Delete this when working on the final stages."
   ]
  },
  {
   "cell_type": "code",
   "execution_count": 114,
   "id": "4852a0db",
   "metadata": {},
   "outputs": [],
   "source": [
    "# Keep only N rows\n",
    "metadata_df = metadata_df.head(1000)"
   ]
  },
  {
   "cell_type": "markdown",
   "id": "1a435530",
   "metadata": {},
   "source": [
    "## 1. 2 Loading the images"
   ]
  },
  {
   "cell_type": "code",
   "execution_count": 115,
   "id": "0552c72d",
   "metadata": {},
   "outputs": [],
   "source": [
    "# this function will read an image with file_name from images directory\n",
    "# images are already in numpy format\n",
    "def read_file(file_name):\n",
    "    imagepath = os.path.join(IMAGESDIR, f'{file_name}.npy')\n",
    "    with open(imagepath, 'rb') as file:\n",
    "        img = np.load(file)\n",
    "    return img"
   ]
  },
  {
   "cell_type": "code",
   "execution_count": 116,
   "id": "fe7b9035",
   "metadata": {},
   "outputs": [],
   "source": [
    "# load image arrays into a large list of images\n",
    "images_list = []\n",
    "  \n",
    "for i in range(len(metadata_df)):\n",
    "    img = read_file(metadata_df.index[i])\n",
    "    \n",
    "    images_list.append(img)\n",
    "\n",
    "#since images are loaded into a list, they will be converted into a numpy array\n",
    "images = np.array(images_list, dtype=np.ndarray)"
   ]
  },
  {
   "cell_type": "code",
   "execution_count": 117,
   "id": "e12bf9cf",
   "metadata": {
    "scrolled": false
   },
   "outputs": [],
   "source": [
    "# add padding to the images so they're all the same size\n",
    "for i in range(len(images)):\n",
    "    images[i] = keras.utils.pad_sequences(images[i], value=0,padding='post', maxlen=512)\n",
    "    \n",
    "images = keras.utils.pad_sequences(images, value=0,padding='post', maxlen=512)\n",
    "\n",
    "# negative values will be shown as black, so they are converted to 0\n",
    "images[images < 0] = 0\n",
    "\n",
    "# Grayscale images have 1 color channel. This dimension is dropped by default so it has to be\n",
    "# added back manually\n",
    "images = np.expand_dims(images, -1)\n",
    "\n",
    "# Normalize the data\n",
    "images = images / 65535"
   ]
  },
  {
   "cell_type": "code",
   "execution_count": 118,
   "id": "717b16ba",
   "metadata": {},
   "outputs": [
    {
     "data": {
      "text/plain": [
       "(1000, 512, 512, 1)"
      ]
     },
     "execution_count": 118,
     "metadata": {},
     "output_type": "execute_result"
    }
   ],
   "source": [
    "images.shape"
   ]
  },
  {
   "cell_type": "code",
   "execution_count": 119,
   "id": "f9b9b5bb",
   "metadata": {},
   "outputs": [],
   "source": [
    "y_center = np.expand_dims(metadata_df['WindowCenter'].to_numpy(), -1)\n",
    "y_width = np.expand_dims(metadata_df['WindowWidth'].to_numpy(), -1)"
   ]
  },
  {
   "cell_type": "code",
   "execution_count": 120,
   "id": "1688480c",
   "metadata": {},
   "outputs": [],
   "source": [
    "# images_ds = tf.data.Dataset.from_tensor_slices((images, (y_center, y_width)))\n",
    "images_ds = tf.data.Dataset.from_tensor_slices((images, (metadata_df['WindowCenter'].to_numpy(), metadata_df['WindowWidth'].to_numpy())))"
   ]
  },
  {
   "cell_type": "code",
   "execution_count": 121,
   "id": "d4e41f6e",
   "metadata": {},
   "outputs": [],
   "source": [
    "train_size = int(len(images_ds) * .8)\n",
    "val_size = int(len(images_ds) * .1)\n",
    "test_size = int(len(images_ds) * .1)\n",
    "\n",
    "train = images_ds.take(train_size)\n",
    "val = images_ds.skip(train_size).take(val_size)\n",
    "test = images_ds.skip(train_size+val_size).take(test_size)"
   ]
  },
  {
   "cell_type": "code",
   "execution_count": 122,
   "id": "ca11d79d",
   "metadata": {},
   "outputs": [],
   "source": [
    "BATCH_SIZE = 32\n",
    "SHUFFLE_BUFFER_SIZE = 100\n",
    "\n",
    "train = train.shuffle(SHUFFLE_BUFFER_SIZE).batch(BATCH_SIZE)\n",
    "val = val.batch(BATCH_SIZE)\n",
    "test = test.batch(BATCH_SIZE)"
   ]
  },
  {
   "cell_type": "code",
   "execution_count": 123,
   "id": "09e7b87c",
   "metadata": {},
   "outputs": [
    {
     "name": "stdout",
     "output_type": "stream",
     "text": [
      "(32, 512, 512, 1)\n"
     ]
    }
   ],
   "source": [
    "lst = list(train.as_numpy_iterator())\n",
    "print(lst[0][0].shape)"
   ]
  },
  {
   "cell_type": "markdown",
   "id": "a15363e4",
   "metadata": {},
   "source": [
    "\n",
    "\\# choose train, validation and test rations\n",
    "train_ratio = 0.80\n",
    "validation_ratio = 0.10\n",
    "test_ratio = 0.10\n",
    "\n",
    "\\# train is now 80% of the entire data set\n",
    "\\# pandas dataframe will be converted to numpy array\n",
    "#x_train, x_test, y_train, y_test = train_test_split(images, metadata_df.to_numpy(), test_size=1 - train_ratio)\n",
    "x_train, x_test, y_train_c, y_test_c = train_test_split(images, y_center, test_size=1 - train_ratio)\n",
    "y_train_w = y_width[0:len(y_train_c)]\n",
    "y_test_w = y_width[len(y_train_c):]\n",
    "\n",
    "\\# test is now 10% of the initial data set\n",
    "\\# validation is now 10% of the initial data set\n",
    "#x_val, x_test, y_val, y_test = train_test_split(x_test, y_test, test_size=test_ratio/(test_ratio + validation_ratio)) \n",
    "x_val, x_test, y_val_c, y_test_c = train_test_split(x_test, y_test_w, test_size=test_ratio/(test_ratio + validation_ratio)) \n",
    "y_val_w = y_test_w[len(y_val_c):]\n"
   ]
  },
  {
   "cell_type": "code",
   "execution_count": 124,
   "id": "691298db",
   "metadata": {},
   "outputs": [],
   "source": [
    "#y={\"window_center\": y_train_c,\n",
    "#  \"window_width\" : y_train_w}"
   ]
  },
  {
   "cell_type": "code",
   "execution_count": 125,
   "id": "a94cbd4f",
   "metadata": {},
   "outputs": [],
   "source": [
    "# plt.imshow(data_list[4][0], cmap=\"bone\")"
   ]
  },
  {
   "cell_type": "markdown",
   "id": "f8e1c593",
   "metadata": {},
   "source": [
    "# TESTING"
   ]
  },
  {
   "cell_type": "markdown",
   "id": "d3d903ca",
   "metadata": {},
   "source": [
    "# MODEL BUILDING"
   ]
  },
  {
   "cell_type": "code",
   "execution_count": 126,
   "id": "d8f70d23",
   "metadata": {},
   "outputs": [],
   "source": [
    "from tensorflow.keras.models import Model\n",
    "from tensorflow.keras.layers import Input, Conv2D, BatchNormalization, MaxPooling2D, Dense, Flatten, Dropout\n",
    "\n",
    "def build_model():\n",
    "    inputs = Input(shape=(512, 512, 1))\n",
    "    x = Conv2D(8, (3,3), 1, activation='relu') (inputs)\n",
    "    x = MaxPooling2D() (x)\n",
    "    \n",
    "    x = Conv2D(16, (3,3), 1, activation='relu') (x)\n",
    "    x = MaxPooling2D() (x)\n",
    "    \n",
    "    x = Conv2D(32, (3,3), 1, activation='relu') (x)\n",
    "    x = MaxPooling2D() (x)\n",
    "    \n",
    "    x = Conv2D(64, (3,3), 1, activation='relu') (x)\n",
    "    x = MaxPooling2D() (x)\n",
    "    \n",
    "    x = Conv2D(64, (3,3), 1, activation='relu') (x)\n",
    "    x = MaxPooling2D() (x)\n",
    "\n",
    "    x = Flatten() (x)\n",
    "    x = Dense(256, activation='relu') (x) \n",
    "    output1 = Dense(units='1', activation='linear', name=\"window_center\")(x)\n",
    "    output2 = Dense(units='1', activation='linear', name=\"window_width\")(x)\n",
    "    \n",
    "    model = Model(inputs=inputs, outputs=[output1, output2])\n",
    "    \n",
    "    return model\n",
    "\n",
    "model = build_model()\n",
    "\n",
    "# Specify the optimizer, and compile the model with loss functions for both outputs\n",
    "loss1 = keras.losses.MeanSquaredError()\n",
    "loss2 = keras.losses.MeanSquaredError()\n",
    "losses = {\n",
    "    \"window_center\": loss1,\n",
    "    \"window_width\": loss2,\n",
    "}\n",
    "\n",
    "metric1 = tf.keras.metrics.MeanSquaredError()\n",
    "metric2 = tf.keras.metrics.MeanSquaredError()\n",
    "metrics = {\n",
    "    \"window_center\": metric1,\n",
    "    \"window_width\": metric2,\n",
    "}\n",
    "\n",
    "optim = keras.optimizers.Adam()\n",
    "\n",
    "model.compile(optimizer=optim, loss=losses, metrics=metrics)"
   ]
  },
  {
   "cell_type": "code",
   "execution_count": 127,
   "id": "6579b5cb",
   "metadata": {
    "scrolled": true
   },
   "outputs": [
    {
     "name": "stdout",
     "output_type": "stream",
     "text": [
      "Model: \"model_1\"\n",
      "__________________________________________________________________________________________________\n",
      " Layer (type)                   Output Shape         Param #     Connected to                     \n",
      "==================================================================================================\n",
      " input_2 (InputLayer)           [(None, 512, 512, 1  0           []                               \n",
      "                                )]                                                                \n",
      "                                                                                                  \n",
      " conv2d_5 (Conv2D)              (None, 510, 510, 8)  80          ['input_2[0][0]']                \n",
      "                                                                                                  \n",
      " max_pooling2d_5 (MaxPooling2D)  (None, 255, 255, 8)  0          ['conv2d_5[0][0]']               \n",
      "                                                                                                  \n",
      " conv2d_6 (Conv2D)              (None, 253, 253, 16  1168        ['max_pooling2d_5[0][0]']        \n",
      "                                )                                                                 \n",
      "                                                                                                  \n",
      " max_pooling2d_6 (MaxPooling2D)  (None, 126, 126, 16  0          ['conv2d_6[0][0]']               \n",
      "                                )                                                                 \n",
      "                                                                                                  \n",
      " conv2d_7 (Conv2D)              (None, 124, 124, 32  4640        ['max_pooling2d_6[0][0]']        \n",
      "                                )                                                                 \n",
      "                                                                                                  \n",
      " max_pooling2d_7 (MaxPooling2D)  (None, 62, 62, 32)  0           ['conv2d_7[0][0]']               \n",
      "                                                                                                  \n",
      " conv2d_8 (Conv2D)              (None, 60, 60, 64)   18496       ['max_pooling2d_7[0][0]']        \n",
      "                                                                                                  \n",
      " max_pooling2d_8 (MaxPooling2D)  (None, 30, 30, 64)  0           ['conv2d_8[0][0]']               \n",
      "                                                                                                  \n",
      " conv2d_9 (Conv2D)              (None, 28, 28, 64)   36928       ['max_pooling2d_8[0][0]']        \n",
      "                                                                                                  \n",
      " max_pooling2d_9 (MaxPooling2D)  (None, 14, 14, 64)  0           ['conv2d_9[0][0]']               \n",
      "                                                                                                  \n",
      " flatten_1 (Flatten)            (None, 12544)        0           ['max_pooling2d_9[0][0]']        \n",
      "                                                                                                  \n",
      " dense_1 (Dense)                (None, 256)          3211520     ['flatten_1[0][0]']              \n",
      "                                                                                                  \n",
      " window_center (Dense)          (None, 1)            257         ['dense_1[0][0]']                \n",
      "                                                                                                  \n",
      " window_width (Dense)           (None, 1)            257         ['dense_1[0][0]']                \n",
      "                                                                                                  \n",
      "==================================================================================================\n",
      "Total params: 3,273,346\n",
      "Trainable params: 3,273,346\n",
      "Non-trainable params: 0\n",
      "__________________________________________________________________________________________________\n"
     ]
    }
   ],
   "source": [
    "model.summary()"
   ]
  },
  {
   "cell_type": "code",
   "execution_count": 128,
   "id": "d7adafdf",
   "metadata": {},
   "outputs": [
    {
     "name": "stdout",
     "output_type": "stream",
     "text": [
      "Epoch 1/10\n",
      "25/25 [==============================] - 50s 2s/step - loss: 4632514.0000 - window_center_loss: 1460726.7500 - window_width_loss: 3171787.7500 - window_center_root_mean_squared_error: 1208.6053 - window_width_root_mean_squared_error: 1780.9514 - val_loss: 1927163.6250 - val_window_center_loss: 853735.0625 - val_window_width_loss: 1073428.7500 - val_window_center_root_mean_squared_error: 923.9778 - val_window_width_root_mean_squared_error: 1036.0641\n",
      "Epoch 2/10\n",
      "25/25 [==============================] - 45s 2s/step - loss: 1910542.5000 - window_center_loss: 717294.5000 - window_width_loss: 1193247.6250 - window_center_root_mean_squared_error: 846.9324 - window_width_root_mean_squared_error: 1092.3588 - val_loss: 1423134.3750 - val_window_center_loss: 705969.2500 - val_window_width_loss: 717165.2500 - val_window_center_root_mean_squared_error: 840.2198 - val_window_width_root_mean_squared_error: 846.8561\n",
      "Epoch 3/10\n",
      "25/25 [==============================] - 45s 2s/step - loss: 1316866.1250 - window_center_loss: 497101.3750 - window_width_loss: 819764.8125 - window_center_root_mean_squared_error: 705.0541 - window_width_root_mean_squared_error: 905.4086 - val_loss: 911149.2500 - val_window_center_loss: 453511.2500 - val_window_width_loss: 457638.0000 - val_window_center_root_mean_squared_error: 673.4324 - val_window_width_root_mean_squared_error: 676.4894\n",
      "Epoch 4/10\n",
      "25/25 [==============================] - 44s 2s/step - loss: 953952.0625 - window_center_loss: 306525.8750 - window_width_loss: 647426.2500 - window_center_root_mean_squared_error: 553.6478 - window_width_root_mean_squared_error: 804.6280 - val_loss: 799255.4375 - val_window_center_loss: 340289.4688 - val_window_width_loss: 458965.9062 - val_window_center_root_mean_squared_error: 583.3434 - val_window_width_root_mean_squared_error: 677.4702\n",
      "Epoch 5/10\n",
      "25/25 [==============================] - 47s 2s/step - loss: 932975.1250 - window_center_loss: 294681.1562 - window_width_loss: 638293.8125 - window_center_root_mean_squared_error: 542.8454 - window_width_root_mean_squared_error: 798.9329 - val_loss: 813730.6250 - val_window_center_loss: 364126.9688 - val_window_width_loss: 449603.6875 - val_window_center_root_mean_squared_error: 603.4293 - val_window_width_root_mean_squared_error: 670.5250\n",
      "Epoch 6/10\n",
      "25/25 [==============================] - 46s 2s/step - loss: 872972.6250 - window_center_loss: 266085.1875 - window_width_loss: 606887.3750 - window_center_root_mean_squared_error: 515.8345 - window_width_root_mean_squared_error: 779.0298 - val_loss: 728824.2500 - val_window_center_loss: 317376.9688 - val_window_width_loss: 411447.3750 - val_window_center_root_mean_squared_error: 563.3622 - val_window_width_root_mean_squared_error: 641.4417\n",
      "Epoch 7/10\n",
      "25/25 [==============================] - 45s 2s/step - loss: 848508.1875 - window_center_loss: 253359.7031 - window_width_loss: 595148.5000 - window_center_root_mean_squared_error: 503.3485 - window_width_root_mean_squared_error: 771.4587 - val_loss: 737337.3750 - val_window_center_loss: 305371.5625 - val_window_width_loss: 431965.7500 - val_window_center_root_mean_squared_error: 552.6044 - val_window_width_root_mean_squared_error: 657.2410\n",
      "Epoch 8/10\n",
      "25/25 [==============================] - 44s 2s/step - loss: 804481.9375 - window_center_loss: 237509.5938 - window_width_loss: 566972.2500 - window_center_root_mean_squared_error: 487.3495 - window_width_root_mean_squared_error: 752.9756 - val_loss: 638697.2500 - val_window_center_loss: 259031.0938 - val_window_width_loss: 379666.1562 - val_window_center_root_mean_squared_error: 508.9510 - val_window_width_root_mean_squared_error: 616.1705\n",
      "Epoch 9/10\n",
      "25/25 [==============================] - 45s 2s/step - loss: 765101.8125 - window_center_loss: 221888.2969 - window_width_loss: 543213.3750 - window_center_root_mean_squared_error: 471.0502 - window_width_root_mean_squared_error: 737.0301 - val_loss: 615264.5625 - val_window_center_loss: 244088.4844 - val_window_width_loss: 371176.0938 - val_window_center_root_mean_squared_error: 494.0531 - val_window_width_root_mean_squared_error: 609.2422\n",
      "Epoch 10/10\n",
      "25/25 [==============================] - 45s 2s/step - loss: 751059.2500 - window_center_loss: 207426.9844 - window_width_loss: 543632.3750 - window_center_root_mean_squared_error: 455.4415 - window_width_root_mean_squared_error: 737.3143 - val_loss: 603065.8750 - val_window_center_loss: 235315.6406 - val_window_width_loss: 367750.2500 - val_window_center_root_mean_squared_error: 485.0934 - val_window_width_root_mean_squared_error: 606.4241\n"
     ]
    }
   ],
   "source": [
    "# model.fit(scaled_test, epochs=1, validation_data=val_data)\n",
    "history = model.fit(train, epochs=10, validation_data=val, batch_size=32, verbose=1)\n",
    "#history = model.fit(x_train, y=y, batch_size=32, epochs=1, verbose=1)"
   ]
  },
  {
   "cell_type": "code",
   "execution_count": 144,
   "id": "f4eaa35c",
   "metadata": {},
   "outputs": [
    {
     "name": "stdout",
     "output_type": "stream",
     "text": [
      "4/4 [==============================] - 1s 293ms/step - loss: 670636.6250 - window_center_loss: 212081.7188 - window_width_loss: 458554.9062 - window_center_root_mean_squared_error: 460.5233 - window_width_root_mean_squared_error: 677.1668\n"
     ]
    },
    {
     "data": {
      "text/plain": [
       "[670636.625, 212081.71875, 458554.90625, 460.5233154296875, 677.1668090820312]"
      ]
     },
     "execution_count": 144,
     "metadata": {},
     "output_type": "execute_result"
    }
   ],
   "source": [
    "model.evaluate(test)"
   ]
  },
  {
   "cell_type": "code",
   "execution_count": 141,
   "id": "6d75a04a",
   "metadata": {},
   "outputs": [
    {
     "data": {
      "text/plain": [
       "(1, 512, 512, 1)"
      ]
     },
     "execution_count": 141,
     "metadata": {},
     "output_type": "execute_result"
    }
   ],
   "source": [
    "a_random_x = read_file('4520043')\n",
    "a_random_x = a_random_x / 65535\n",
    "a_random_x = np.expand_dims(a_random_x, -1)\n",
    "a_random_x = keras.utils.pad_sequences(a_random_x, value=0,padding='post', maxlen=512)\n",
    "a_random_x = keras.utils.pad_sequences(a_random_x[0], value=0,padding='post', maxlen=512)\n",
    "a_random_x = np.expand_dims(a_random_x, -1)\n",
    "a_random_x = np.expand_dims(a_random_x, 0)\n",
    "\n",
    "y_pred = model.predict(a_random_x)\n",
    "y_pred"
   ]
  },
  {
   "cell_type": "code",
   "execution_count": 135,
   "id": "b24f174e",
   "metadata": {},
   "outputs": [],
   "source": [
    "test_list = list(test.as_numpy_iterator())"
   ]
  },
  {
   "cell_type": "code",
   "execution_count": 136,
   "id": "f9f29e93",
   "metadata": {},
   "outputs": [
    {
     "data": {
      "text/plain": [
       "array([1500.,  324., 2286.,  498.,  708., 1631., 2075., 1995., -600.,\n",
       "       -600., 2107., 2235., 2048., 1161., 1500., 1115., 1824., 2048.,\n",
       "         40., 1862.,  400., 2105., 1751.,   40., 1500., 1500., 1500.,\n",
       "       1906., -600., 1918., 2451., 1951.], dtype=float32)"
      ]
     },
     "execution_count": 136,
     "metadata": {},
     "output_type": "execute_result"
    }
   ],
   "source": [
    "test_list[0][1][0]"
   ]
  },
  {
   "cell_type": "code",
   "execution_count": 137,
   "id": "dc62d2a2",
   "metadata": {},
   "outputs": [
    {
     "name": "stdout",
     "output_type": "stream",
     "text": [
      "4/4 [==============================] - 2s 428ms/step\n"
     ]
    }
   ],
   "source": [
    "def plot_diff(y_true, y_pred, title=''):\n",
    "    plt.scatter(y_true, y_pred)\n",
    "    plt.title(title)\n",
    "    plt.xlabel('True Values')\n",
    "    plt.ylabel('Predictions')\n",
    "    plt.axis('equal')\n",
    "    plt.axis('square')\n",
    "    plt.xlim(plt.xlim())\n",
    "    plt.ylim(plt.ylim())\n",
    "    plt.plot([-100, 100], [-100, 100])\n",
    "    plt.show()\n",
    "\n",
    "\n",
    "def plot_metrics(metric_name, title, ylim=5):\n",
    "    plt.title(title)\n",
    "    plt.ylim(0, ylim)\n",
    "    plt.plot(history.history[metric_name], color='blue', label=metric_name)\n",
    "    plt.plot(history.history['val_' + metric_name], color='green', label='val_' + metric_name)\n",
    "    plt.show()\n",
    "    \n",
    "# Run predict\n",
    "Y_pred = model.predict(test)\n",
    "center_pred = Y_pred[0]\n",
    "width_pred = Y_pred[1]"
   ]
  },
  {
   "cell_type": "code",
   "execution_count": 149,
   "id": "31a1562c",
   "metadata": {},
   "outputs": [
    {
     "data": {
      "text/plain": [
       "32"
      ]
     },
     "execution_count": 149,
     "metadata": {},
     "output_type": "execute_result"
    }
   ],
   "source": [
    "len(center_pred[32:64])"
   ]
  },
  {
   "cell_type": "code",
   "execution_count": 150,
   "id": "5a0e8dd1",
   "metadata": {},
   "outputs": [
    {
     "data": {
      "image/png": "[encoded data removed]",
      "text/plain": [
       "<Figure size 432x288 with 1 Axes>"
      ]
     },
     "metadata": {
      "needs_background": "light"
     },
     "output_type": "display_data"
    },
    {
     "data": {
      "image/png": "[encoded data removed]",
      "text/plain": [
       "<Figure size 432x288 with 1 Axes>"
      ]
     },
     "metadata": {
      "needs_background": "light"
     },
     "output_type": "display_data"
    }
   ],
   "source": [
    "plot_diff(test_list[1][1][0], center_pred[32:64], title='CENTER')\n",
    "plot_diff(test_list[1][1][1], width_pred[32:64], title='WIDTH')"
   ]
  },
  {
   "cell_type": "code",
   "execution_count": null,
   "id": "3ace6f78",
   "metadata": {},
   "outputs": [],
   "source": []
  }
 ],
 "metadata": {
  "kernelspec": {
   "display_name": "Python 3",
   "language": "python",
   "name": "python3"
  },
  "language_info": {
   "codemirror_mode": {
    "name": "ipython",
    "version": 3
   },
   "file_extension": ".py",
   "mimetype": "text/x-python",
   "name": "python",
   "nbconvert_exporter": "python",
   "pygments_lexer": "ipython3",
   "version": "3.8.10"
  }
 },
 "nbformat": 4,
 "nbformat_minor": 5
}
